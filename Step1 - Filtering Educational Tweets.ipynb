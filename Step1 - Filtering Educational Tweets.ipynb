{
 "cells": [
  {
   "cell_type": "markdown",
   "id": "3b3c7118-88f2-4cbb-a6fe-14fbf569f9de",
   "metadata": {},
   "source": [
    "### Step1\n",
    "### Filtering Educational Tweets out of 500GB data of 100M Tweets"
   ]
  },
  {
   "cell_type": "code",
   "execution_count": 1,
   "id": "a99aab87-550d-4893-b78e-73deb226372f",
   "metadata": {},
   "outputs": [],
   "source": [
    "import os\n",
    "import time\n",
    "import subprocess\n",
    "\n",
    "from pyspark.sql.functions import *\n",
    "from pyspark.sql.types import *\n",
    "\n",
    "from pyspark.sql import SQLContext\n",
    "sqlContext = SQLContext(sc)"
   ]
  },
  {
   "cell_type": "code",
   "execution_count": 2,
   "id": "635bacea-50e5-4b84-b5b0-71eee3303ede",
   "metadata": {},
   "outputs": [],
   "source": [
    "import pandas as pd\n",
    "import numpy as np\n",
    "import matplotlib.pyplot as plt\n",
    "import seaborn as sns"
   ]
  },
  {
   "cell_type": "code",
   "execution_count": 3,
   "id": "62ebbecc-b744-4634-97fd-00e1392b152b",
   "metadata": {},
   "outputs": [],
   "source": [
    "from pyspark.sql import functions as F\n",
    "spark.conf.set(\"spark.sql.repl.eagerEval.enabled\",True)"
   ]
  },
  {
   "cell_type": "code",
   "execution_count": null,
   "id": "b4aff863-c370-4871-9a93-c0712c8b3e9d",
   "metadata": {},
   "outputs": [],
   "source": []
  },
  {
   "cell_type": "code",
   "execution_count": null,
   "id": "8206b477-7189-4fca-8c6b-e635a7124a9d",
   "metadata": {},
   "outputs": [],
   "source": [
    "spark.conf.set(\"spark.sql.repl.eagerEval.enabled\",True)"
   ]
  },
  {
   "cell_type": "code",
   "execution_count": null,
   "id": "2cc5bd53-f37c-443c-b975-b8fcfe94690f",
   "metadata": {},
   "outputs": [],
   "source": []
  },
  {
   "cell_type": "markdown",
   "id": "547d73c8-58a6-4653-a803-b1069ca45da6",
   "metadata": {},
   "source": [
    "### Running API/Column Based Filtering"
   ]
  },
  {
   "cell_type": "code",
   "execution_count": 6,
   "id": "0b531cf4-48ac-4e7c-820d-ca0d7c01fcd3",
   "metadata": {},
   "outputs": [],
   "source": [
    "#only english language\n",
    "df_filter_withConditions = df_full.filter(col('lang') == 'en') "
   ]
  },
  {
   "cell_type": "code",
   "execution_count": 7,
   "id": "be4ac5a1-1635-43b7-8fa6-364643d9ea78",
   "metadata": {},
   "outputs": [],
   "source": [
    "#no sensitive content\n",
    "df_filter_withConditions = df_filter_withConditions.filter((col('possibly_sensitive') == False) | col('possibly_sensitive').isNull())"
   ]
  },
  {
   "cell_type": "code",
   "execution_count": 8,
   "id": "5e880d1c-6425-4128-b7ba-98a6f3da9af7",
   "metadata": {},
   "outputs": [],
   "source": [
    "#no truncated tweets\n",
    "df_filter_withConditions = df_filter_withConditions.filter((col('truncated') == False) | col('truncated').isNull())"
   ]
  },
  {
   "cell_type": "code",
   "execution_count": null,
   "id": "b993e948-41b9-497a-b767-6d50c227cea6",
   "metadata": {},
   "outputs": [
    {
     "name": "stderr",
     "output_type": "stream",
     "text": [
      "                                                                                \r"
     ]
    },
    {
     "data": {
      "text/plain": [
       "78307824"
      ]
     },
     "execution_count": 27,
     "metadata": {},
     "output_type": "execute_result"
    }
   ],
   "source": [
    "df_filter_withConditions.count()"
   ]
  },
  {
   "cell_type": "markdown",
   "id": "60343a62-9e59-45c0-8108-f1def852911d",
   "metadata": {},
   "source": [
    "##### At this point filtered out based on tweet characteristics and got 78M / 100M"
   ]
  },
  {
   "cell_type": "markdown",
   "id": "90159bcb-e937-4abd-a462-0be9a99168f9",
   "metadata": {},
   "source": [
    "### Using filter words from Chatgpt, google, wikipedia and basic intuition to filter tweets which has these words in tweet_text"
   ]
  },
  {
   "cell_type": "code",
   "execution_count": 9,
   "id": "b2ebe02a-a9dc-4487-9c78-2d0ba45a5109",
   "metadata": {},
   "outputs": [],
   "source": [
    "filter_words = ['education', 'educational', 'kindergarten', 'primary school', 'local school', 'private school'\n",
    "               , 'public school', 'high school','college', 'academic institution', 'academics', 'k12', 'k-12',\n",
    "                'community college', 'junior college', 'senior high school', 'junior high school', 'middle school',\n",
    "                'elementry school', 'Nursery', 'elementry education', 'masters degree', 'masters', 'bachelors', \n",
    "                'undergrad', 'undergraduate', 'graduate', 'post-graduate', 'postgraduate', 'postgrad', 'post-grad',\n",
    "                'grad', 'schooling', 'studying','teaching', 'learning', 'educational research', 'research', 'classroom',\n",
    "                'home work', 'home-work', 'preschool', 'educationalist', 'syllabus', 'study load', 'peer pressure', \n",
    "                'textbook', 'workload', 'educational stress', 'academic success', 'online education', 'e-learning', \n",
    "                'e learning', 'literacy', 'pen', 'books', 'professor', 'research associate', 'post-doctorate', 'PhD',\n",
    "                'postdoctorate', 'professional education', 'academic training', 'schooling', 'learning', 'studying',\n",
    "                'p-12', 'p12', 'primary school', 'secondary education', 'secondary school', 'nursery', 'chemistry',\n",
    "                'biology', 'physics', 'physical education', 'study', 'academic achievements', 'nobel prize',\n",
    "                'academic scholar', 'merit scholarships', 'scholarships', 'tuition', 'tuition fee', 'study',\n",
    "                'academic conference', 'educational conference'\n",
    "               ]"
   ]
  },
  {
   "cell_type": "code",
   "execution_count": 10,
   "id": "33932bff-4946-4bb0-97aa-2b82ff533fde",
   "metadata": {},
   "outputs": [
    {
     "data": {
      "text/plain": [
       "87"
      ]
     },
     "execution_count": 10,
     "metadata": {},
     "output_type": "execute_result"
    }
   ],
   "source": [
    "len(filter_words)"
   ]
  },
  {
   "cell_type": "code",
   "execution_count": 11,
   "id": "66d27d66-2ab9-4ce1-bc79-c1e03d642f7d",
   "metadata": {},
   "outputs": [],
   "source": [
    "filter_words = '|'.join([\"(\" + c +\")\" for c in filter_words])"
   ]
  },
  {
   "cell_type": "code",
   "execution_count": 12,
   "id": "89296c67-2812-41aa-a630-c7988e040e34",
   "metadata": {},
   "outputs": [
    {
     "data": {
      "text/plain": [
       "'(education)|(educational)|(kindergarten)|(primary school)|(local school)|(private school)|(public school)|(high school)|(college)|(academic institution)|(academics)|(k12)|(k-12)|(community college)|(junior college)|(senior high school)|(junior high school)|(middle school)|(elementry school)|(Nursery)|(elementry education)|(masters degree)|(masters)|(bachelors)|(undergrad)|(undergraduate)|(graduate)|(post-graduate)|(postgraduate)|(postgrad)|(post-grad)|(grad)|(schooling)|(studying)|(teaching)|(learning)|(educational research)|(research)|(classroom)|(home work)|(home-work)|(preschool)|(educationalist)|(syllabus)|(study load)|(peer pressure)|(textbook)|(workload)|(educational stress)|(academic success)|(online education)|(e-learning)|(e learning)|(literacy)|(pen)|(books)|(professor)|(research associate)|(post-doctorate)|(PhD)|(postdoctorate)|(professional education)|(academic training)|(schooling)|(learning)|(studying)|(p-12)|(p12)|(primary school)|(secondary education)|(secondary school)|(nursery)|(chemistry)|(biology)|(physics)|(physical education)|(study)|(academic achievements)|(nobel prize)|(academic scholar)|(merit scholarships)|(scholarships)|(tuition)|(tuition fee)|(study)|(academic conference)|(educational conference)'"
      ]
     },
     "execution_count": 12,
     "metadata": {},
     "output_type": "execute_result"
    }
   ],
   "source": [
    "filter_words"
   ]
  },
  {
   "cell_type": "code",
   "execution_count": 13,
   "id": "ad240863-b0c2-454b-949a-d65aad426974",
   "metadata": {},
   "outputs": [],
   "source": [
    "df_filter_withConditions = df_filter_withConditions.withColumn('lower_text', lower(col('text')))\\\n",
    "                                                    .withColumn('lower_tweet_text', lower(col('tweet_text')))"
   ]
  },
  {
   "cell_type": "code",
   "execution_count": 14,
   "id": "b1af8779-e9c8-43d7-97e7-17f90f9a6ae4",
   "metadata": {},
   "outputs": [],
   "source": [
    "df_filtered = df_filter_withConditions.where(col('lower_tweet_text').rlike(filter_words))"
   ]
  },
  {
   "cell_type": "markdown",
   "id": "42e05cbb-963e-40d6-9d4f-b3ac9dde9e0c",
   "metadata": {},
   "source": [
    "##### Got 38M tweets which has educational keywords"
   ]
  },
  {
   "cell_type": "code",
   "execution_count": null,
   "id": "c454c321-e0f6-4659-81b8-f02f1f8dd618",
   "metadata": {},
   "outputs": [
    {
     "name": "stderr",
     "output_type": "stream",
     "text": [
      "                                                                                \r"
     ]
    }
   ],
   "source": [
    "df_filtered.write.mode('overwrite').parquet(\"gs://msca-bdp-students-bucket/shared_data/safzal1/finalprojectdata_filtered2\")"
   ]
  },
  {
   "cell_type": "code",
   "execution_count": 54,
   "id": "93b0eff6-9419-4e02-bb63-b4518d40dded",
   "metadata": {},
   "outputs": [
    {
     "name": "stderr",
     "output_type": "stream",
     "text": [
      "                                                                                \r"
     ]
    }
   ],
   "source": [
    "df3 = spark.read.parquet('gs://msca-bdp-students-bucket/shared_data/safzal1/finalprojectdata_filtered2')"
   ]
  },
  {
   "cell_type": "code",
   "execution_count": null,
   "id": "5ed5fc8d-32e6-43a8-aa3f-6839024a76d6",
   "metadata": {},
   "outputs": [],
   "source": []
  },
  {
   "cell_type": "markdown",
   "id": "12987627-a0d5-455c-b974-7668c7ccac23",
   "metadata": {},
   "source": [
    "### Now we will ensure that the tweet as well as when it is retweeted/reposted, education is talked about, by ensuring that education word is used atleast once"
   ]
  },
  {
   "cell_type": "code",
   "execution_count": 15,
   "id": "5ca1acc6-e96f-462f-a1ee-b62d69836ada",
   "metadata": {},
   "outputs": [],
   "source": [
    "df_filtered2 = df_filtered.where(col('lower_text').rlike('education'))"
   ]
  },
  {
   "cell_type": "code",
   "execution_count": null,
   "id": "7d159416-f93f-41d0-9d92-13dabc50cd6c",
   "metadata": {},
   "outputs": [
    {
     "name": "stderr",
     "output_type": "stream",
     "text": [
      "                                                                                \r"
     ]
    },
    {
     "data": {
      "text/plain": [
       "1731801"
      ]
     },
     "execution_count": 16,
     "metadata": {},
     "output_type": "execute_result"
    }
   ],
   "source": [
    "df_filtered2.count()"
   ]
  },
  {
   "cell_type": "markdown",
   "id": "867596b1-29fc-4cac-8d9a-ec6d8bd01b4a",
   "metadata": {},
   "source": [
    "### Here we have 1.73M tweets to run analysis"
   ]
  },
  {
   "cell_type": "code",
   "execution_count": 18,
   "id": "93040fde-8a1f-4d35-80c3-9f376eb2fce8",
   "metadata": {},
   "outputs": [
    {
     "name": "stderr",
     "output_type": "stream",
     "text": [
      "                                                                                \r"
     ]
    }
   ],
   "source": [
    "df_filtered2.write.parquet(\"gs://msca-bdp-students-bucket/shared_data/safzal1/finalprojectdata_filtered_1.7M_3\")"
   ]
  },
  {
   "cell_type": "code",
   "execution_count": null,
   "id": "1332bc65-209b-43d5-8a42-93317295361c",
   "metadata": {},
   "outputs": [],
   "source": []
  }
 ],
 "metadata": {
  "kernelspec": {
   "display_name": "Python 3 (ipykernel)",
   "language": "python",
   "name": "python3"
  },
  "language_info": {
   "codemirror_mode": {
    "name": "ipython",
    "version": 3
   },
   "file_extension": ".py",
   "mimetype": "text/x-python",
   "name": "python",
   "nbconvert_exporter": "python",
   "pygments_lexer": "ipython3",
   "version": "3.9.12"
  }
 },
 "nbformat": 4,
 "nbformat_minor": 5
}
