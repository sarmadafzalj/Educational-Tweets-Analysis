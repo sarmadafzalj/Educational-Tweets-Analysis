{
 "cells": [
  {
   "cell_type": "markdown",
   "id": "8507a233",
   "metadata": {},
   "source": [
    "### Step 6\n",
    "### Similarity Analysis"
   ]
  },
  {
   "cell_type": "code",
   "execution_count": 1,
   "id": "e1e99978-a476-4039-9f09-2296acaa9597",
   "metadata": {},
   "outputs": [],
   "source": [
    "import pandas as pd\n",
    "import numpy as np\n",
    "pd.set_option('display.max_colwidth', None)\n",
    "pd.reset_option('display.max_rows')\n",
    "from itertools import compress \n",
    "import seaborn as sns \n",
    "import matplotlib.pyplot as plt\n",
    "import warnings\n",
    "warnings.filterwarnings(action='ignore')\n",
    "warnings.simplefilter('ignore')"
   ]
  },
  {
   "cell_type": "code",
   "execution_count": 2,
   "id": "718ee4ea-82f7-4033-9aa1-87fec86e036d",
   "metadata": {},
   "outputs": [],
   "source": [
    "#%pip uninstall -y nltk\n",
    "#%pip install nltk --upgrade --no-cache-dir"
   ]
  },
  {
   "cell_type": "code",
   "execution_count": 3,
   "id": "54b597da-7777-4473-a8d8-b40273e6d924",
   "metadata": {},
   "outputs": [],
   "source": [
    "import os\n",
    "import shutil\n",
    "import pandas as pd\n",
    "# import sh\n",
    "from pyspark.sql.functions import *\n",
    "#from pyspark.sql import functions as F\n",
    "from pyspark.sql.types import *\n",
    "pd.set_option('display.max_rows', 30)"
   ]
  },
  {
   "cell_type": "code",
   "execution_count": 4,
   "id": "9337d21f-eefc-4d11-bd4f-98d34f2c22a2",
   "metadata": {},
   "outputs": [
    {
     "name": "stderr",
     "output_type": "stream",
     "text": [
      "[nltk_data] Downloading package stopwords to /root/nltk_data...\n",
      "[nltk_data]   Package stopwords is already up-to-date!\n"
     ]
    }
   ],
   "source": [
    "import re\n",
    "from pyspark.ml.feature import MinHashLSH\n",
    "from pyspark.ml.feature import CountVectorizer,  IDF, CountVectorizerModel, Tokenizer, RegexTokenizer, StopWordsRemover\n",
    "from pyspark import SparkContext\n",
    "from pyspark.sql import SparkSession\n",
    "from pyspark.sql import SQLContext\n",
    "from pyspark.sql import Row\n",
    "import nltk\n",
    "nltk.download('stopwords')\n",
    "from nltk.corpus import stopwords"
   ]
  },
  {
   "cell_type": "code",
   "execution_count": 5,
   "id": "97dc5b20-45d0-49e8-b0d3-48cab0e10f80",
   "metadata": {},
   "outputs": [],
   "source": [
    "spark.conf.set(\"spark.sql.repl.eagerEval.enabled\",True)"
   ]
  },
  {
   "cell_type": "code",
   "execution_count": 6,
   "id": "803a680f-4a8a-4dcd-952b-073006bdfc70",
   "metadata": {},
   "outputs": [
    {
     "name": "stderr",
     "output_type": "stream",
     "text": [
      "                                                                                \r"
     ]
    }
   ],
   "source": [
    "df = spark.read.parquet('gs://msca-bdp-students-bucket/shared_data/safzal1/withCategories2')"
   ]
  },
  {
   "cell_type": "code",
   "execution_count": 7,
   "id": "aa04b959-2601-4469-a740-aab93c96457c",
   "metadata": {},
   "outputs": [
    {
     "name": "stderr",
     "output_type": "stream",
     "text": [
      "                                                                                \r"
     ]
    },
    {
     "data": {
      "text/plain": [
       "1731801"
      ]
     },
     "execution_count": 7,
     "metadata": {},
     "output_type": "execute_result"
    }
   ],
   "source": [
    "df.count()"
   ]
  },
  {
   "cell_type": "code",
   "execution_count": 7,
   "id": "da3fd4a8-298f-4f8e-9862-8feaff335b9b",
   "metadata": {},
   "outputs": [],
   "source": [
    "df_tweets = df.select('Tweet_Text', 'Category')"
   ]
  },
  {
   "cell_type": "code",
   "execution_count": 87,
   "id": "f1cbdea8-fd94-40cc-b6d6-45aaffcbc0e8",
   "metadata": {},
   "outputs": [],
   "source": [
    "#df_tweets = df_tweets.withColumn(\"Tweet_Text\", regexp_replace(\"Tweet_Text\", r'[^\\w\\s]+', \"\"))"
   ]
  },
  {
   "cell_type": "code",
   "execution_count": 8,
   "id": "e70bfafe-a62b-40ca-994c-91dc6db2d797",
   "metadata": {},
   "outputs": [],
   "source": [
    "df_tweets_all = df.select('Tweet_Text')"
   ]
  },
  {
   "cell_type": "code",
   "execution_count": 9,
   "id": "71bcc2e2-3670-4385-baab-6128b8273905",
   "metadata": {},
   "outputs": [
    {
     "name": "stderr",
     "output_type": "stream",
     "text": [
      "                                                                                \r"
     ]
    }
   ],
   "source": [
    "frac = 10000/ df_tweets.count()"
   ]
  },
  {
   "cell_type": "code",
   "execution_count": 89,
   "id": "d803c2b9-5738-4568-9043-ebcd6a5ccc4c",
   "metadata": {},
   "outputs": [
    {
     "name": "stderr",
     "output_type": "stream",
     "text": [
      "                                                                                \r"
     ]
    },
    {
     "data": {
      "text/html": [
       "<table border='1'>\n",
       "<tr><th>Tweet_Text</th></tr>\n",
       "<tr><td>Proud to announce...</td></tr>\n",
       "<tr><td>If only Lee Zeldi...</td></tr>\n",
       "<tr><td>400 days since th...</td></tr>\n",
       "<tr><td>Congrats to Gover...</td></tr>\n",
       "<tr><td>.@DeAngelisCorey ...</td></tr>\n",
       "<tr><td>This is a brillia...</td></tr>\n",
       "<tr><td>What is education...</td></tr>\n",
       "<tr><td>Repub dictator at...</td></tr>\n",
       "<tr><td>.@DeAngelisCorey ...</td></tr>\n",
       "<tr><td>Amanda Berry Smit...</td></tr>\n",
       "</table>\n"
      ],
      "text/plain": [
       "+--------------------+\n",
       "|          Tweet_Text|\n",
       "+--------------------+\n",
       "|Proud to announce...|\n",
       "|If only Lee Zeldi...|\n",
       "|400 days since th...|\n",
       "|Congrats to Gover...|\n",
       "|.@DeAngelisCorey ...|\n",
       "|This is a brillia...|\n",
       "|What is education...|\n",
       "|Repub dictator at...|\n",
       "|.@DeAngelisCorey ...|\n",
       "|Amanda Berry Smit...|\n",
       "+--------------------+"
      ]
     },
     "execution_count": 89,
     "metadata": {},
     "output_type": "execute_result"
    }
   ],
   "source": [
    "df_tweets_all.limit(10)"
   ]
  },
  {
   "cell_type": "markdown",
   "id": "1f94a56f-2d79-4f12-800e-e83235cf366a",
   "metadata": {},
   "source": [
    "### Finding Similarity for all tweets"
   ]
  },
  {
   "cell_type": "code",
   "execution_count": 10,
   "id": "a1445a82-82f1-4bda-a6da-aa800a9125d0",
   "metadata": {},
   "outputs": [],
   "source": [
    "text2 = df_tweets_all.sample(fraction=frac, withReplacement=False, seed= 123).rdd.map(lambda x : x['Tweet_Text']).filter(lambda x: x is not None)\n",
    "StopWords = stopwords.words(\"english\")"
   ]
  },
  {
   "cell_type": "code",
   "execution_count": 11,
   "id": "10238f34-c570-479a-9c48-706505c903a3",
   "metadata": {},
   "outputs": [
    {
     "name": "stderr",
     "output_type": "stream",
     "text": [
      "                                                                                \r"
     ]
    },
    {
     "data": {
      "text/plain": [
       "9871"
      ]
     },
     "execution_count": 11,
     "metadata": {},
     "output_type": "execute_result"
    }
   ],
   "source": [
    "text2.count()"
   ]
  },
  {
   "cell_type": "code",
   "execution_count": null,
   "id": "e346460b-6d30-429e-98a0-d9d6c31e6e21",
   "metadata": {},
   "outputs": [],
   "source": []
  },
  {
   "cell_type": "code",
   "execution_count": 12,
   "id": "003a1968-b031-40db-815b-8212e7b416ab",
   "metadata": {},
   "outputs": [],
   "source": [
    "def my_function(text2, jaccard_distance):\n",
    "\n",
    "    tokens = text2\\\n",
    "        .map( lambda document: re.sub(r'[^a-zA-Z0-9 ]', '', document))\\\n",
    "        .map( lambda document: document.strip().lower())\\\n",
    "        .map( lambda document: re.split(\" \", document))\\\n",
    "        .map( lambda word: [x.replace(\"#\",\"\") for x in word if True])\\\n",
    "        .map( lambda word: [x for x in word if x not in StopWords])\\\n",
    "        .map( lambda word: [x for x in word if len(x) > 1] )\\\n",
    "        .zipWithIndex()   \n",
    "    \n",
    "    row = Row('Tweet_Text')\n",
    "    text2=text2.map(row).zipWithIndex().toDF(['text','id'])\n",
    "    \n",
    "    df_tokens = spark.createDataFrame(tokens, [\"list_of_words\",'id'])\n",
    "    df_tokens = df_tokens.where(col('list_of_words').getItem(0).isNotNull())\n",
    "\n",
    "    vectorize = CountVectorizer(inputCol=\"list_of_words\", outputCol=\"features\", minDF=1.0)\n",
    "    df_vectorize = vectorize.fit(df_tokens).transform(df_tokens)\n",
    "\n",
    "    mh = MinHashLSH(inputCol=\"features\", outputCol=\"hashes\", numHashTables=5)\n",
    "    model = mh.fit(df_vectorize)\n",
    "    df_hashed = mh.fit(df_vectorize).transform(df_vectorize).cache()\n",
    "    \n",
    "    df_hashed_text = text2.join(df_hashed, \"id\", how = 'left').cache()\n",
    "    \n",
    "    \n",
    "    df_dups_text = model.approxSimilarityJoin(df_hashed_text, df_hashed_text, jaccard_distance).filter(\"datasetA.id < datasetB.id\").select(\n",
    "            col(\"distCol\"),\n",
    "            col('datasetA.text').alias('text_A'),\n",
    "            col('datasetB.text').alias('text_B'))\n",
    "    dup = df_dups_text.dropDuplicates(['text_A']).toPandas()\n",
    "    dup = dup.shape[0]\n",
    "    \n",
    "    records = df_hashed_text.count()\n",
    "    uniques = records - dup\n",
    "\n",
    "    return uniques, dup"
   ]
  },
  {
   "cell_type": "code",
   "execution_count": 13,
   "id": "2b95801b-e26e-427e-a387-a6b86910b4d9",
   "metadata": {},
   "outputs": [],
   "source": [
    "df_score = pd.DataFrame(columns = ['Entity','Jaccard_Threshold','Uniques','Near_Duplicates'])"
   ]
  },
  {
   "cell_type": "code",
   "execution_count": 14,
   "id": "58140324-659b-4293-8b20-d3acc7d52940",
   "metadata": {},
   "outputs": [
    {
     "name": "stderr",
     "output_type": "stream",
     "text": [
      "                                                                                \r"
     ]
    },
    {
     "name": "stdout",
     "output_type": "stream",
     "text": [
      "8448 1423\n"
     ]
    },
    {
     "name": "stderr",
     "output_type": "stream",
     "text": [
      "                                                                                \r"
     ]
    },
    {
     "name": "stdout",
     "output_type": "stream",
     "text": [
      "8328 1543\n"
     ]
    },
    {
     "name": "stderr",
     "output_type": "stream",
     "text": [
      "                                                                                \r"
     ]
    },
    {
     "name": "stdout",
     "output_type": "stream",
     "text": [
      "8252 1619\n"
     ]
    },
    {
     "name": "stderr",
     "output_type": "stream",
     "text": [
      "                                                                                \r"
     ]
    },
    {
     "name": "stdout",
     "output_type": "stream",
     "text": [
      "8138 1733\n"
     ]
    },
    {
     "name": "stderr",
     "output_type": "stream",
     "text": [
      "                                                                                \r"
     ]
    },
    {
     "name": "stdout",
     "output_type": "stream",
     "text": [
      "7930 1941\n"
     ]
    }
   ],
   "source": [
    "# for All tweets\n",
    "jacards = [0.3,0.4,0.5,0.6,0.7]\n",
    "for i in range(0,5):\n",
    "    a,b = my_function(text2, jacards[i] )\n",
    "    new_row = {'Entity': 'All', 'Jaccard_Threshold': jacards[i], 'Uniques': a, 'Near_Duplicates' :b}\n",
    "    print(a,b)\n",
    "    df_score = df_score.append(new_row, ignore_index=True)\n"
   ]
  },
  {
   "cell_type": "code",
   "execution_count": 15,
   "id": "4bd09e1f-f4cc-4b9e-a818-8056c0df81ac",
   "metadata": {},
   "outputs": [
    {
     "data": {
      "text/html": [
       "<div>\n",
       "<style scoped>\n",
       "    .dataframe tbody tr th:only-of-type {\n",
       "        vertical-align: middle;\n",
       "    }\n",
       "\n",
       "    .dataframe tbody tr th {\n",
       "        vertical-align: top;\n",
       "    }\n",
       "\n",
       "    .dataframe thead th {\n",
       "        text-align: right;\n",
       "    }\n",
       "</style>\n",
       "<table border=\"1\" class=\"dataframe\">\n",
       "  <thead>\n",
       "    <tr style=\"text-align: right;\">\n",
       "      <th></th>\n",
       "      <th>Entity</th>\n",
       "      <th>Jaccard_Threshold</th>\n",
       "      <th>Uniques</th>\n",
       "      <th>Near_Duplicates</th>\n",
       "    </tr>\n",
       "  </thead>\n",
       "  <tbody>\n",
       "    <tr>\n",
       "      <th>0</th>\n",
       "      <td>All</td>\n",
       "      <td>0.3</td>\n",
       "      <td>8448</td>\n",
       "      <td>1423</td>\n",
       "    </tr>\n",
       "    <tr>\n",
       "      <th>1</th>\n",
       "      <td>All</td>\n",
       "      <td>0.4</td>\n",
       "      <td>8328</td>\n",
       "      <td>1543</td>\n",
       "    </tr>\n",
       "    <tr>\n",
       "      <th>2</th>\n",
       "      <td>All</td>\n",
       "      <td>0.5</td>\n",
       "      <td>8252</td>\n",
       "      <td>1619</td>\n",
       "    </tr>\n",
       "    <tr>\n",
       "      <th>3</th>\n",
       "      <td>All</td>\n",
       "      <td>0.6</td>\n",
       "      <td>8138</td>\n",
       "      <td>1733</td>\n",
       "    </tr>\n",
       "    <tr>\n",
       "      <th>4</th>\n",
       "      <td>All</td>\n",
       "      <td>0.7</td>\n",
       "      <td>7930</td>\n",
       "      <td>1941</td>\n",
       "    </tr>\n",
       "  </tbody>\n",
       "</table>\n",
       "</div>"
      ],
      "text/plain": [
       "  Entity  Jaccard_Threshold Uniques Near_Duplicates\n",
       "0    All                0.3    8448            1423\n",
       "1    All                0.4    8328            1543\n",
       "2    All                0.5    8252            1619\n",
       "3    All                0.6    8138            1733\n",
       "4    All                0.7    7930            1941"
      ]
     },
     "execution_count": 15,
     "metadata": {},
     "output_type": "execute_result"
    }
   ],
   "source": [
    "df_score"
   ]
  },
  {
   "cell_type": "code",
   "execution_count": 16,
   "id": "59cb15b7-e7c6-4d1a-93fc-84309276ade2",
   "metadata": {},
   "outputs": [],
   "source": [
    "df_score.to_csv(\"gs://msca-bdp-students-bucket/shared_data/safzal1/similarities/all_again_afterregex.csv\", mode = 'w')"
   ]
  },
  {
   "cell_type": "markdown",
   "id": "31844248-ee5c-496a-bf60-1e926e2e1ea1",
   "metadata": {},
   "source": [
    "### Finding Similarity for all Non Profit"
   ]
  },
  {
   "cell_type": "code",
   "execution_count": 17,
   "id": "7581ef72-37b8-455f-a8a2-ad211830256c",
   "metadata": {},
   "outputs": [],
   "source": [
    "df_tweets_ngo = df_tweets.filter(col('Category') == 'Non Profit Org')"
   ]
  },
  {
   "cell_type": "code",
   "execution_count": 18,
   "id": "4c022095-a662-42e4-b71d-dd6069ac0685",
   "metadata": {},
   "outputs": [
    {
     "name": "stderr",
     "output_type": "stream",
     "text": [
      "                                                                                \r"
     ]
    },
    {
     "data": {
      "text/plain": [
       "89129"
      ]
     },
     "execution_count": 18,
     "metadata": {},
     "output_type": "execute_result"
    }
   ],
   "source": [
    "df_tweets_ngo.count()"
   ]
  },
  {
   "cell_type": "code",
   "execution_count": 19,
   "id": "4f8ecbe0-2fa2-4cb1-92bd-606b531d5746",
   "metadata": {},
   "outputs": [
    {
     "name": "stderr",
     "output_type": "stream",
     "text": [
      "                                                                                \r"
     ]
    }
   ],
   "source": [
    "frac = 10000/ df_tweets_ngo.count()"
   ]
  },
  {
   "cell_type": "code",
   "execution_count": 20,
   "id": "1fb93709-a1a4-46ca-8186-6e23cb9ee64f",
   "metadata": {},
   "outputs": [],
   "source": [
    "text2 = df_tweets_ngo.sample(fraction=frac, withReplacement=False, seed = 123).rdd.map(lambda x : x['Tweet_Text']).filter(lambda x: x is not None)\n",
    "StopWords = stopwords.words(\"english\")"
   ]
  },
  {
   "cell_type": "code",
   "execution_count": 21,
   "id": "13cbc332-b5fd-4e22-8dde-982014cb96cb",
   "metadata": {},
   "outputs": [
    {
     "name": "stderr",
     "output_type": "stream",
     "text": [
      "                                                                                \r"
     ]
    },
    {
     "data": {
      "text/plain": [
       "10084"
      ]
     },
     "execution_count": 21,
     "metadata": {},
     "output_type": "execute_result"
    }
   ],
   "source": [
    "text2.count()"
   ]
  },
  {
   "cell_type": "code",
   "execution_count": 22,
   "id": "7dcd8b66-6f2b-4f39-8388-b1ff2362084a",
   "metadata": {},
   "outputs": [
    {
     "name": "stderr",
     "output_type": "stream",
     "text": [
      "                                                                                \r"
     ]
    }
   ],
   "source": [
    "# for All tweets\n",
    "jacards = [0.2,0.3,0.4,0.5,0.6,0.7]\n",
    "for i in range(0,6):\n",
    "    a,b = my_function(text2, jacards[i] )\n",
    "    new_row = {'Entity': 'NGO', 'Jaccard_Threshold': jacards[i], 'Uniques': a, 'Near_Duplicates' :b}\n",
    "    df_score = df_score.append(new_row, ignore_index=True)\n"
   ]
  },
  {
   "cell_type": "code",
   "execution_count": 23,
   "id": "06eb4c06-8701-4955-a078-e2336e45c503",
   "metadata": {},
   "outputs": [
    {
     "data": {
      "text/html": [
       "<div>\n",
       "<style scoped>\n",
       "    .dataframe tbody tr th:only-of-type {\n",
       "        vertical-align: middle;\n",
       "    }\n",
       "\n",
       "    .dataframe tbody tr th {\n",
       "        vertical-align: top;\n",
       "    }\n",
       "\n",
       "    .dataframe thead th {\n",
       "        text-align: right;\n",
       "    }\n",
       "</style>\n",
       "<table border=\"1\" class=\"dataframe\">\n",
       "  <thead>\n",
       "    <tr style=\"text-align: right;\">\n",
       "      <th></th>\n",
       "      <th>Entity</th>\n",
       "      <th>Jaccard_Threshold</th>\n",
       "      <th>Uniques</th>\n",
       "      <th>Near_Duplicates</th>\n",
       "    </tr>\n",
       "  </thead>\n",
       "  <tbody>\n",
       "    <tr>\n",
       "      <th>0</th>\n",
       "      <td>All</td>\n",
       "      <td>0.3</td>\n",
       "      <td>8448</td>\n",
       "      <td>1423</td>\n",
       "    </tr>\n",
       "    <tr>\n",
       "      <th>1</th>\n",
       "      <td>All</td>\n",
       "      <td>0.4</td>\n",
       "      <td>8328</td>\n",
       "      <td>1543</td>\n",
       "    </tr>\n",
       "    <tr>\n",
       "      <th>2</th>\n",
       "      <td>All</td>\n",
       "      <td>0.5</td>\n",
       "      <td>8252</td>\n",
       "      <td>1619</td>\n",
       "    </tr>\n",
       "    <tr>\n",
       "      <th>3</th>\n",
       "      <td>All</td>\n",
       "      <td>0.6</td>\n",
       "      <td>8138</td>\n",
       "      <td>1733</td>\n",
       "    </tr>\n",
       "    <tr>\n",
       "      <th>4</th>\n",
       "      <td>All</td>\n",
       "      <td>0.7</td>\n",
       "      <td>7930</td>\n",
       "      <td>1941</td>\n",
       "    </tr>\n",
       "    <tr>\n",
       "      <th>5</th>\n",
       "      <td>NGO</td>\n",
       "      <td>0.2</td>\n",
       "      <td>8806</td>\n",
       "      <td>1278</td>\n",
       "    </tr>\n",
       "    <tr>\n",
       "      <th>6</th>\n",
       "      <td>NGO</td>\n",
       "      <td>0.3</td>\n",
       "      <td>8780</td>\n",
       "      <td>1304</td>\n",
       "    </tr>\n",
       "    <tr>\n",
       "      <th>7</th>\n",
       "      <td>NGO</td>\n",
       "      <td>0.4</td>\n",
       "      <td>8762</td>\n",
       "      <td>1322</td>\n",
       "    </tr>\n",
       "    <tr>\n",
       "      <th>8</th>\n",
       "      <td>NGO</td>\n",
       "      <td>0.5</td>\n",
       "      <td>8742</td>\n",
       "      <td>1342</td>\n",
       "    </tr>\n",
       "    <tr>\n",
       "      <th>9</th>\n",
       "      <td>NGO</td>\n",
       "      <td>0.6</td>\n",
       "      <td>8705</td>\n",
       "      <td>1379</td>\n",
       "    </tr>\n",
       "    <tr>\n",
       "      <th>10</th>\n",
       "      <td>NGO</td>\n",
       "      <td>0.7</td>\n",
       "      <td>8620</td>\n",
       "      <td>1464</td>\n",
       "    </tr>\n",
       "  </tbody>\n",
       "</table>\n",
       "</div>"
      ],
      "text/plain": [
       "   Entity  Jaccard_Threshold Uniques Near_Duplicates\n",
       "0     All                0.3    8448            1423\n",
       "1     All                0.4    8328            1543\n",
       "2     All                0.5    8252            1619\n",
       "3     All                0.6    8138            1733\n",
       "4     All                0.7    7930            1941\n",
       "5     NGO                0.2    8806            1278\n",
       "6     NGO                0.3    8780            1304\n",
       "7     NGO                0.4    8762            1322\n",
       "8     NGO                0.5    8742            1342\n",
       "9     NGO                0.6    8705            1379\n",
       "10    NGO                0.7    8620            1464"
      ]
     },
     "execution_count": 23,
     "metadata": {},
     "output_type": "execute_result"
    }
   ],
   "source": [
    "df_score"
   ]
  },
  {
   "cell_type": "code",
   "execution_count": null,
   "id": "2c413414-3eb5-4ebf-b89e-578152830d84",
   "metadata": {},
   "outputs": [],
   "source": []
  },
  {
   "cell_type": "code",
   "execution_count": 24,
   "id": "c003c4a0-ba13-4697-8354-c25aa805d56c",
   "metadata": {},
   "outputs": [],
   "source": [
    "df_score.to_csv(\"gs://msca-bdp-students-bucket/shared_data/safzal1/similarities/all_again_afterregex.csv\", mode = 'w')"
   ]
  },
  {
   "cell_type": "markdown",
   "id": "68fd6b29-cb1f-464a-bf73-712669c1327d",
   "metadata": {},
   "source": [
    "### Finding Similarity for all Government Entities"
   ]
  },
  {
   "cell_type": "code",
   "execution_count": 25,
   "id": "c48e2a33-bd91-4025-b991-8464df920a3b",
   "metadata": {},
   "outputs": [],
   "source": [
    "df_tweets_govt = df_tweets.filter(col('Category') == 'Government Entities')"
   ]
  },
  {
   "cell_type": "code",
   "execution_count": 26,
   "id": "296bfec7-a513-47ba-a0ba-54e63c1615a2",
   "metadata": {},
   "outputs": [
    {
     "name": "stderr",
     "output_type": "stream",
     "text": [
      "                                                                                \r"
     ]
    },
    {
     "data": {
      "text/plain": [
       "343520"
      ]
     },
     "execution_count": 26,
     "metadata": {},
     "output_type": "execute_result"
    }
   ],
   "source": [
    "df_tweets_govt.count()"
   ]
  },
  {
   "cell_type": "code",
   "execution_count": 27,
   "id": "2050bead-9742-47e1-b655-6bfb73c545b5",
   "metadata": {},
   "outputs": [
    {
     "name": "stderr",
     "output_type": "stream",
     "text": [
      "                                                                                \r"
     ]
    }
   ],
   "source": [
    "frac = 10000/ df_tweets_govt.count()"
   ]
  },
  {
   "cell_type": "code",
   "execution_count": 28,
   "id": "f1637773-8bfc-4b02-9324-98bfc0943740",
   "metadata": {},
   "outputs": [],
   "source": [
    "text2 = df_tweets_govt.sample(fraction=frac, withReplacement=False, seed = 123).rdd.map(lambda x : x['Tweet_Text']).filter(lambda x: x is not None)\n",
    "StopWords = stopwords.words(\"english\")"
   ]
  },
  {
   "cell_type": "code",
   "execution_count": 29,
   "id": "b4476a2e-501f-44de-80e1-eaaeac7d9a91",
   "metadata": {},
   "outputs": [
    {
     "name": "stderr",
     "output_type": "stream",
     "text": [
      "                                                                                \r"
     ]
    },
    {
     "data": {
      "text/plain": [
       "9894"
      ]
     },
     "execution_count": 29,
     "metadata": {},
     "output_type": "execute_result"
    }
   ],
   "source": [
    "text2.count()"
   ]
  },
  {
   "cell_type": "code",
   "execution_count": null,
   "id": "b532b561-047d-4417-a826-0f86c048e67f",
   "metadata": {},
   "outputs": [
    {
     "name": "stderr",
     "output_type": "stream",
     "text": [
      "                                                                                \r"
     ]
    }
   ],
   "source": [
    "jacards = [0.3,0.4,0.5,0.6,0.7]\n",
    "for i in range(0,5):\n",
    "    a,b = my_function(text2, jacards[i] )\n",
    "    new_row = {'Entity': 'Government', 'Jaccard_Threshold': jacards[i], 'Uniques': a, 'Near_Duplicates' :b}\n",
    "    df_score = df_score.append(new_row, ignore_index=True)\n"
   ]
  },
  {
   "cell_type": "code",
   "execution_count": null,
   "id": "e6bb570d-4acb-4ac3-94e8-7e617451dcf9",
   "metadata": {},
   "outputs": [
    {
     "data": {
      "text/html": [
       "<div>\n",
       "<style scoped>\n",
       "    .dataframe tbody tr th:only-of-type {\n",
       "        vertical-align: middle;\n",
       "    }\n",
       "\n",
       "    .dataframe tbody tr th {\n",
       "        vertical-align: top;\n",
       "    }\n",
       "\n",
       "    .dataframe thead th {\n",
       "        text-align: right;\n",
       "    }\n",
       "</style>\n",
       "<table border=\"1\" class=\"dataframe\">\n",
       "  <thead>\n",
       "    <tr style=\"text-align: right;\">\n",
       "      <th></th>\n",
       "      <th>Entity</th>\n",
       "      <th>Jaccard_Threshold</th>\n",
       "      <th>Uniques</th>\n",
       "      <th>Near_Duplicates</th>\n",
       "    </tr>\n",
       "  </thead>\n",
       "  <tbody>\n",
       "    <tr>\n",
       "      <th>0</th>\n",
       "      <td>All</td>\n",
       "      <td>0.3</td>\n",
       "      <td>8448</td>\n",
       "      <td>1423</td>\n",
       "    </tr>\n",
       "    <tr>\n",
       "      <th>1</th>\n",
       "      <td>All</td>\n",
       "      <td>0.4</td>\n",
       "      <td>8328</td>\n",
       "      <td>1543</td>\n",
       "    </tr>\n",
       "    <tr>\n",
       "      <th>2</th>\n",
       "      <td>All</td>\n",
       "      <td>0.5</td>\n",
       "      <td>8252</td>\n",
       "      <td>1619</td>\n",
       "    </tr>\n",
       "    <tr>\n",
       "      <th>3</th>\n",
       "      <td>All</td>\n",
       "      <td>0.6</td>\n",
       "      <td>8138</td>\n",
       "      <td>1733</td>\n",
       "    </tr>\n",
       "    <tr>\n",
       "      <th>4</th>\n",
       "      <td>All</td>\n",
       "      <td>0.7</td>\n",
       "      <td>7930</td>\n",
       "      <td>1941</td>\n",
       "    </tr>\n",
       "    <tr>\n",
       "      <th>5</th>\n",
       "      <td>NGO</td>\n",
       "      <td>0.2</td>\n",
       "      <td>8806</td>\n",
       "      <td>1278</td>\n",
       "    </tr>\n",
       "    <tr>\n",
       "      <th>6</th>\n",
       "      <td>NGO</td>\n",
       "      <td>0.3</td>\n",
       "      <td>8780</td>\n",
       "      <td>1304</td>\n",
       "    </tr>\n",
       "    <tr>\n",
       "      <th>7</th>\n",
       "      <td>NGO</td>\n",
       "      <td>0.4</td>\n",
       "      <td>8762</td>\n",
       "      <td>1322</td>\n",
       "    </tr>\n",
       "    <tr>\n",
       "      <th>8</th>\n",
       "      <td>NGO</td>\n",
       "      <td>0.5</td>\n",
       "      <td>8742</td>\n",
       "      <td>1342</td>\n",
       "    </tr>\n",
       "    <tr>\n",
       "      <th>9</th>\n",
       "      <td>NGO</td>\n",
       "      <td>0.6</td>\n",
       "      <td>8705</td>\n",
       "      <td>1379</td>\n",
       "    </tr>\n",
       "    <tr>\n",
       "      <th>10</th>\n",
       "      <td>NGO</td>\n",
       "      <td>0.7</td>\n",
       "      <td>8620</td>\n",
       "      <td>1464</td>\n",
       "    </tr>\n",
       "    <tr>\n",
       "      <th>11</th>\n",
       "      <td>Government</td>\n",
       "      <td>0.3</td>\n",
       "      <td>8680</td>\n",
       "      <td>1214</td>\n",
       "    </tr>\n",
       "    <tr>\n",
       "      <th>12</th>\n",
       "      <td>Government</td>\n",
       "      <td>0.4</td>\n",
       "      <td>8663</td>\n",
       "      <td>1231</td>\n",
       "    </tr>\n",
       "    <tr>\n",
       "      <th>13</th>\n",
       "      <td>Government</td>\n",
       "      <td>0.5</td>\n",
       "      <td>8632</td>\n",
       "      <td>1262</td>\n",
       "    </tr>\n",
       "    <tr>\n",
       "      <th>14</th>\n",
       "      <td>Government</td>\n",
       "      <td>0.6</td>\n",
       "      <td>8591</td>\n",
       "      <td>1303</td>\n",
       "    </tr>\n",
       "    <tr>\n",
       "      <th>15</th>\n",
       "      <td>Government</td>\n",
       "      <td>0.7</td>\n",
       "      <td>8525</td>\n",
       "      <td>1369</td>\n",
       "    </tr>\n",
       "  </tbody>\n",
       "</table>\n",
       "</div>"
      ],
      "text/plain": [
       "        Entity  Jaccard_Threshold Uniques Near_Duplicates\n",
       "0          All                0.3    8448            1423\n",
       "1          All                0.4    8328            1543\n",
       "2          All                0.5    8252            1619\n",
       "3          All                0.6    8138            1733\n",
       "4          All                0.7    7930            1941\n",
       "5          NGO                0.2    8806            1278\n",
       "6          NGO                0.3    8780            1304\n",
       "7          NGO                0.4    8762            1322\n",
       "8          NGO                0.5    8742            1342\n",
       "9          NGO                0.6    8705            1379\n",
       "10         NGO                0.7    8620            1464\n",
       "11  Government                0.3    8680            1214\n",
       "12  Government                0.4    8663            1231\n",
       "13  Government                0.5    8632            1262\n",
       "14  Government                0.6    8591            1303\n",
       "15  Government                0.7    8525            1369"
      ]
     },
     "execution_count": 31,
     "metadata": {},
     "output_type": "execute_result"
    }
   ],
   "source": [
    "df_score"
   ]
  },
  {
   "cell_type": "code",
   "execution_count": 39,
   "id": "ce03f94a-7d1e-45e3-a9ae-4389185b263e",
   "metadata": {},
   "outputs": [],
   "source": [
    "df_score.to_csv(\"gs://msca-bdp-students-bucket/shared_data/safzal1/similarities/all_again_afterregex.csv\", mode = 'w')"
   ]
  },
  {
   "cell_type": "markdown",
   "id": "d9fa4abd-7abc-4083-b4b4-034d0c78fd79",
   "metadata": {},
   "source": [
    "### Finding Similarity for all University Entities"
   ]
  },
  {
   "cell_type": "code",
   "execution_count": 40,
   "id": "03e8ee15-b47e-4321-a6e3-5e2ef6cad68c",
   "metadata": {},
   "outputs": [],
   "source": [
    "df_tweets_uni = df_tweets.filter(col('Category') == 'University')"
   ]
  },
  {
   "cell_type": "code",
   "execution_count": 41,
   "id": "691a57a8-e669-416e-a13d-2ae70fa7c2dc",
   "metadata": {},
   "outputs": [
    {
     "name": "stderr",
     "output_type": "stream",
     "text": [
      "                                                                                \r"
     ]
    },
    {
     "data": {
      "text/plain": [
       "273202"
      ]
     },
     "execution_count": 41,
     "metadata": {},
     "output_type": "execute_result"
    }
   ],
   "source": [
    "df_tweets_uni.count()"
   ]
  },
  {
   "cell_type": "code",
   "execution_count": 42,
   "id": "6bd20503-d547-4e77-a943-276395d6bc69",
   "metadata": {},
   "outputs": [
    {
     "name": "stderr",
     "output_type": "stream",
     "text": [
      "                                                                                \r"
     ]
    }
   ],
   "source": [
    "frac = 10000/ df_tweets_uni.count()"
   ]
  },
  {
   "cell_type": "code",
   "execution_count": 43,
   "id": "335705f9-8217-471a-abcc-34a3e47583c2",
   "metadata": {},
   "outputs": [],
   "source": [
    "text2 = df_tweets_uni.sample(fraction=frac, withReplacement=False, seed = 123).rdd.map(lambda x : x['Tweet_Text']).filter(lambda x: x is not None)\n",
    "StopWords = stopwords.words(\"english\")"
   ]
  },
  {
   "cell_type": "code",
   "execution_count": 44,
   "id": "cfb73140-ffbd-4ecc-bef9-a6de7fb2f2a3",
   "metadata": {},
   "outputs": [
    {
     "name": "stderr",
     "output_type": "stream",
     "text": [
      "                                                                                \r"
     ]
    },
    {
     "data": {
      "text/plain": [
       "10024"
      ]
     },
     "execution_count": 44,
     "metadata": {},
     "output_type": "execute_result"
    }
   ],
   "source": [
    "text2.count()"
   ]
  },
  {
   "cell_type": "code",
   "execution_count": null,
   "id": "5bcb5f17-896c-4b04-9fc1-a7d015ecde41",
   "metadata": {},
   "outputs": [
    {
     "name": "stderr",
     "output_type": "stream",
     "text": [
      "                                                                                \r"
     ]
    }
   ],
   "source": [
    "jacards = [0.3,0.4,0.5,0.6,0.7]\n",
    "for i in range(0,5):\n",
    "    a,b = my_function(text2, jacards[i] )\n",
    "    new_row = {'Entity': 'University', 'Jaccard_Threshold': jacards[i], 'Uniques': a, 'Near_Duplicates' :b}\n",
    "    df_score = df_score.append(new_row, ignore_index=True)\n"
   ]
  },
  {
   "cell_type": "code",
   "execution_count": 45,
   "id": "79104390-0031-44be-b642-f479050eefd1",
   "metadata": {},
   "outputs": [
    {
     "data": {
      "text/html": [
       "<div>\n",
       "<style scoped>\n",
       "    .dataframe tbody tr th:only-of-type {\n",
       "        vertical-align: middle;\n",
       "    }\n",
       "\n",
       "    .dataframe tbody tr th {\n",
       "        vertical-align: top;\n",
       "    }\n",
       "\n",
       "    .dataframe thead th {\n",
       "        text-align: right;\n",
       "    }\n",
       "</style>\n",
       "<table border=\"1\" class=\"dataframe\">\n",
       "  <thead>\n",
       "    <tr style=\"text-align: right;\">\n",
       "      <th></th>\n",
       "      <th>Entity</th>\n",
       "      <th>Jaccard_Threshold</th>\n",
       "      <th>Uniques</th>\n",
       "      <th>Near_Duplicates</th>\n",
       "    </tr>\n",
       "  </thead>\n",
       "  <tbody>\n",
       "    <tr>\n",
       "      <th>0</th>\n",
       "      <td>All</td>\n",
       "      <td>0.3</td>\n",
       "      <td>8448</td>\n",
       "      <td>1423</td>\n",
       "    </tr>\n",
       "    <tr>\n",
       "      <th>1</th>\n",
       "      <td>All</td>\n",
       "      <td>0.4</td>\n",
       "      <td>8328</td>\n",
       "      <td>1543</td>\n",
       "    </tr>\n",
       "    <tr>\n",
       "      <th>2</th>\n",
       "      <td>All</td>\n",
       "      <td>0.5</td>\n",
       "      <td>8252</td>\n",
       "      <td>1619</td>\n",
       "    </tr>\n",
       "    <tr>\n",
       "      <th>3</th>\n",
       "      <td>All</td>\n",
       "      <td>0.6</td>\n",
       "      <td>8138</td>\n",
       "      <td>1733</td>\n",
       "    </tr>\n",
       "    <tr>\n",
       "      <th>4</th>\n",
       "      <td>All</td>\n",
       "      <td>0.7</td>\n",
       "      <td>7930</td>\n",
       "      <td>1941</td>\n",
       "    </tr>\n",
       "    <tr>\n",
       "      <th>5</th>\n",
       "      <td>NGO</td>\n",
       "      <td>0.2</td>\n",
       "      <td>8806</td>\n",
       "      <td>1278</td>\n",
       "    </tr>\n",
       "    <tr>\n",
       "      <th>6</th>\n",
       "      <td>NGO</td>\n",
       "      <td>0.3</td>\n",
       "      <td>8780</td>\n",
       "      <td>1304</td>\n",
       "    </tr>\n",
       "    <tr>\n",
       "      <th>7</th>\n",
       "      <td>NGO</td>\n",
       "      <td>0.4</td>\n",
       "      <td>8762</td>\n",
       "      <td>1322</td>\n",
       "    </tr>\n",
       "    <tr>\n",
       "      <th>8</th>\n",
       "      <td>NGO</td>\n",
       "      <td>0.5</td>\n",
       "      <td>8742</td>\n",
       "      <td>1342</td>\n",
       "    </tr>\n",
       "    <tr>\n",
       "      <th>9</th>\n",
       "      <td>NGO</td>\n",
       "      <td>0.6</td>\n",
       "      <td>8705</td>\n",
       "      <td>1379</td>\n",
       "    </tr>\n",
       "    <tr>\n",
       "      <th>10</th>\n",
       "      <td>NGO</td>\n",
       "      <td>0.7</td>\n",
       "      <td>8620</td>\n",
       "      <td>1464</td>\n",
       "    </tr>\n",
       "    <tr>\n",
       "      <th>11</th>\n",
       "      <td>Government</td>\n",
       "      <td>0.3</td>\n",
       "      <td>8680</td>\n",
       "      <td>1214</td>\n",
       "    </tr>\n",
       "    <tr>\n",
       "      <th>12</th>\n",
       "      <td>Government</td>\n",
       "      <td>0.4</td>\n",
       "      <td>8663</td>\n",
       "      <td>1231</td>\n",
       "    </tr>\n",
       "    <tr>\n",
       "      <th>13</th>\n",
       "      <td>Government</td>\n",
       "      <td>0.5</td>\n",
       "      <td>8632</td>\n",
       "      <td>1262</td>\n",
       "    </tr>\n",
       "    <tr>\n",
       "      <th>14</th>\n",
       "      <td>Government</td>\n",
       "      <td>0.6</td>\n",
       "      <td>8591</td>\n",
       "      <td>1303</td>\n",
       "    </tr>\n",
       "    <tr>\n",
       "      <th>15</th>\n",
       "      <td>Government</td>\n",
       "      <td>0.7</td>\n",
       "      <td>8525</td>\n",
       "      <td>1369</td>\n",
       "    </tr>\n",
       "    <tr>\n",
       "      <th>16</th>\n",
       "      <td>University</td>\n",
       "      <td>0.3</td>\n",
       "      <td>8932</td>\n",
       "      <td>1092</td>\n",
       "    </tr>\n",
       "    <tr>\n",
       "      <th>17</th>\n",
       "      <td>University</td>\n",
       "      <td>0.4</td>\n",
       "      <td>8892</td>\n",
       "      <td>1132</td>\n",
       "    </tr>\n",
       "    <tr>\n",
       "      <th>18</th>\n",
       "      <td>University</td>\n",
       "      <td>0.5</td>\n",
       "      <td>8837</td>\n",
       "      <td>1187</td>\n",
       "    </tr>\n",
       "    <tr>\n",
       "      <th>19</th>\n",
       "      <td>University</td>\n",
       "      <td>0.6</td>\n",
       "      <td>8734</td>\n",
       "      <td>1290</td>\n",
       "    </tr>\n",
       "    <tr>\n",
       "      <th>20</th>\n",
       "      <td>University</td>\n",
       "      <td>0.7</td>\n",
       "      <td>8549</td>\n",
       "      <td>1475</td>\n",
       "    </tr>\n",
       "  </tbody>\n",
       "</table>\n",
       "</div>"
      ],
      "text/plain": [
       "        Entity  Jaccard_Threshold Uniques Near_Duplicates\n",
       "0          All                0.3    8448            1423\n",
       "1          All                0.4    8328            1543\n",
       "2          All                0.5    8252            1619\n",
       "3          All                0.6    8138            1733\n",
       "4          All                0.7    7930            1941\n",
       "5          NGO                0.2    8806            1278\n",
       "6          NGO                0.3    8780            1304\n",
       "7          NGO                0.4    8762            1322\n",
       "8          NGO                0.5    8742            1342\n",
       "9          NGO                0.6    8705            1379\n",
       "10         NGO                0.7    8620            1464\n",
       "11  Government                0.3    8680            1214\n",
       "12  Government                0.4    8663            1231\n",
       "13  Government                0.5    8632            1262\n",
       "14  Government                0.6    8591            1303\n",
       "15  Government                0.7    8525            1369\n",
       "16  University                0.3    8932            1092\n",
       "17  University                0.4    8892            1132\n",
       "18  University                0.5    8837            1187\n",
       "19  University                0.6    8734            1290\n",
       "20  University                0.7    8549            1475"
      ]
     },
     "execution_count": 45,
     "metadata": {},
     "output_type": "execute_result"
    }
   ],
   "source": [
    "df_score"
   ]
  },
  {
   "cell_type": "code",
   "execution_count": 46,
   "id": "f2c141ac-e30f-4498-aa99-7a338a74696e",
   "metadata": {},
   "outputs": [],
   "source": [
    "df_score.to_csv(\"gs://msca-bdp-students-bucket/shared_data/safzal1/similarities/all_again_afterregex.csv\", mode = 'w')"
   ]
  },
  {
   "cell_type": "markdown",
   "id": "f232940b-c77a-4321-aa62-a3344fbf5834",
   "metadata": {},
   "source": [
    "### Finding Similarity for all School"
   ]
  },
  {
   "cell_type": "code",
   "execution_count": 47,
   "id": "a1494f76-a0ec-49fb-aaaf-dd79c730cb29",
   "metadata": {},
   "outputs": [],
   "source": [
    "df_tweets_sch = df_tweets.filter(col('Category') == 'School')"
   ]
  },
  {
   "cell_type": "code",
   "execution_count": 48,
   "id": "82f6bb26-92b2-4292-8899-9206870b04dc",
   "metadata": {},
   "outputs": [
    {
     "data": {
      "text/plain": [
       "35523"
      ]
     },
     "execution_count": 48,
     "metadata": {},
     "output_type": "execute_result"
    }
   ],
   "source": [
    "df_tweets_sch.count()"
   ]
  },
  {
   "cell_type": "code",
   "execution_count": 49,
   "id": "4a22b524-ebab-4ccf-983e-953610ab461b",
   "metadata": {},
   "outputs": [
    {
     "name": "stderr",
     "output_type": "stream",
     "text": [
      "                                                                                \r"
     ]
    }
   ],
   "source": [
    "frac = 10000/ df_tweets_sch.count()"
   ]
  },
  {
   "cell_type": "code",
   "execution_count": 50,
   "id": "f60fe204-c8f3-44fd-a38b-a3c0b13b8154",
   "metadata": {},
   "outputs": [],
   "source": [
    "text2 = df_tweets_sch.sample(fraction=frac, withReplacement=False, seed = 123).rdd.map(lambda x : x['Tweet_Text']).filter(lambda x: x is not None)\n",
    "StopWords = stopwords.words(\"english\")"
   ]
  },
  {
   "cell_type": "code",
   "execution_count": 51,
   "id": "6b723693-77c2-41c0-9cd8-5d01ec5ca3b6",
   "metadata": {},
   "outputs": [
    {
     "name": "stderr",
     "output_type": "stream",
     "text": [
      "                                                                                \r"
     ]
    },
    {
     "data": {
      "text/plain": [
       "9942"
      ]
     },
     "execution_count": 51,
     "metadata": {},
     "output_type": "execute_result"
    }
   ],
   "source": [
    "text2.count()"
   ]
  },
  {
   "cell_type": "code",
   "execution_count": 52,
   "id": "1091b464-9ad0-476e-b4f4-1602f81a1564",
   "metadata": {},
   "outputs": [
    {
     "name": "stderr",
     "output_type": "stream",
     "text": [
      "                                                                                \r"
     ]
    }
   ],
   "source": [
    "jacards = [0.3,0.4,0.5,0.6,0.7]\n",
    "for i in range(0,5):\n",
    "    a,b = my_function(text2, jacards[i] )\n",
    "    new_row = {'Entity': 'School', 'Jaccard_Threshold': jacards[i], 'Uniques': a, 'Near_Duplicates' :b}\n",
    "    df_score = df_score.append(new_row, ignore_index=True)\n"
   ]
  },
  {
   "cell_type": "code",
   "execution_count": 53,
   "id": "06ccfc1b-3841-4020-9634-0f85ced8ecf1",
   "metadata": {},
   "outputs": [
    {
     "data": {
      "text/html": [
       "<div>\n",
       "<style scoped>\n",
       "    .dataframe tbody tr th:only-of-type {\n",
       "        vertical-align: middle;\n",
       "    }\n",
       "\n",
       "    .dataframe tbody tr th {\n",
       "        vertical-align: top;\n",
       "    }\n",
       "\n",
       "    .dataframe thead th {\n",
       "        text-align: right;\n",
       "    }\n",
       "</style>\n",
       "<table border=\"1\" class=\"dataframe\">\n",
       "  <thead>\n",
       "    <tr style=\"text-align: right;\">\n",
       "      <th></th>\n",
       "      <th>Entity</th>\n",
       "      <th>Jaccard_Threshold</th>\n",
       "      <th>Uniques</th>\n",
       "      <th>Near_Duplicates</th>\n",
       "    </tr>\n",
       "  </thead>\n",
       "  <tbody>\n",
       "    <tr>\n",
       "      <th>0</th>\n",
       "      <td>All</td>\n",
       "      <td>0.3</td>\n",
       "      <td>8448</td>\n",
       "      <td>1423</td>\n",
       "    </tr>\n",
       "    <tr>\n",
       "      <th>1</th>\n",
       "      <td>All</td>\n",
       "      <td>0.4</td>\n",
       "      <td>8328</td>\n",
       "      <td>1543</td>\n",
       "    </tr>\n",
       "    <tr>\n",
       "      <th>2</th>\n",
       "      <td>All</td>\n",
       "      <td>0.5</td>\n",
       "      <td>8252</td>\n",
       "      <td>1619</td>\n",
       "    </tr>\n",
       "    <tr>\n",
       "      <th>3</th>\n",
       "      <td>All</td>\n",
       "      <td>0.6</td>\n",
       "      <td>8138</td>\n",
       "      <td>1733</td>\n",
       "    </tr>\n",
       "    <tr>\n",
       "      <th>4</th>\n",
       "      <td>All</td>\n",
       "      <td>0.7</td>\n",
       "      <td>7930</td>\n",
       "      <td>1941</td>\n",
       "    </tr>\n",
       "    <tr>\n",
       "      <th>5</th>\n",
       "      <td>NGO</td>\n",
       "      <td>0.2</td>\n",
       "      <td>8806</td>\n",
       "      <td>1278</td>\n",
       "    </tr>\n",
       "    <tr>\n",
       "      <th>6</th>\n",
       "      <td>NGO</td>\n",
       "      <td>0.3</td>\n",
       "      <td>8780</td>\n",
       "      <td>1304</td>\n",
       "    </tr>\n",
       "    <tr>\n",
       "      <th>7</th>\n",
       "      <td>NGO</td>\n",
       "      <td>0.4</td>\n",
       "      <td>8762</td>\n",
       "      <td>1322</td>\n",
       "    </tr>\n",
       "    <tr>\n",
       "      <th>8</th>\n",
       "      <td>NGO</td>\n",
       "      <td>0.5</td>\n",
       "      <td>8742</td>\n",
       "      <td>1342</td>\n",
       "    </tr>\n",
       "    <tr>\n",
       "      <th>9</th>\n",
       "      <td>NGO</td>\n",
       "      <td>0.6</td>\n",
       "      <td>8705</td>\n",
       "      <td>1379</td>\n",
       "    </tr>\n",
       "    <tr>\n",
       "      <th>10</th>\n",
       "      <td>NGO</td>\n",
       "      <td>0.7</td>\n",
       "      <td>8620</td>\n",
       "      <td>1464</td>\n",
       "    </tr>\n",
       "    <tr>\n",
       "      <th>11</th>\n",
       "      <td>Government</td>\n",
       "      <td>0.3</td>\n",
       "      <td>8680</td>\n",
       "      <td>1214</td>\n",
       "    </tr>\n",
       "    <tr>\n",
       "      <th>12</th>\n",
       "      <td>Government</td>\n",
       "      <td>0.4</td>\n",
       "      <td>8663</td>\n",
       "      <td>1231</td>\n",
       "    </tr>\n",
       "    <tr>\n",
       "      <th>13</th>\n",
       "      <td>Government</td>\n",
       "      <td>0.5</td>\n",
       "      <td>8632</td>\n",
       "      <td>1262</td>\n",
       "    </tr>\n",
       "    <tr>\n",
       "      <th>14</th>\n",
       "      <td>Government</td>\n",
       "      <td>0.6</td>\n",
       "      <td>8591</td>\n",
       "      <td>1303</td>\n",
       "    </tr>\n",
       "    <tr>\n",
       "      <th>15</th>\n",
       "      <td>Government</td>\n",
       "      <td>0.7</td>\n",
       "      <td>8525</td>\n",
       "      <td>1369</td>\n",
       "    </tr>\n",
       "    <tr>\n",
       "      <th>16</th>\n",
       "      <td>University</td>\n",
       "      <td>0.3</td>\n",
       "      <td>8932</td>\n",
       "      <td>1092</td>\n",
       "    </tr>\n",
       "    <tr>\n",
       "      <th>17</th>\n",
       "      <td>University</td>\n",
       "      <td>0.4</td>\n",
       "      <td>8892</td>\n",
       "      <td>1132</td>\n",
       "    </tr>\n",
       "    <tr>\n",
       "      <th>18</th>\n",
       "      <td>University</td>\n",
       "      <td>0.5</td>\n",
       "      <td>8837</td>\n",
       "      <td>1187</td>\n",
       "    </tr>\n",
       "    <tr>\n",
       "      <th>19</th>\n",
       "      <td>University</td>\n",
       "      <td>0.6</td>\n",
       "      <td>8734</td>\n",
       "      <td>1290</td>\n",
       "    </tr>\n",
       "    <tr>\n",
       "      <th>20</th>\n",
       "      <td>University</td>\n",
       "      <td>0.7</td>\n",
       "      <td>8549</td>\n",
       "      <td>1475</td>\n",
       "    </tr>\n",
       "    <tr>\n",
       "      <th>21</th>\n",
       "      <td>School</td>\n",
       "      <td>0.3</td>\n",
       "      <td>8770</td>\n",
       "      <td>1172</td>\n",
       "    </tr>\n",
       "    <tr>\n",
       "      <th>22</th>\n",
       "      <td>School</td>\n",
       "      <td>0.4</td>\n",
       "      <td>8725</td>\n",
       "      <td>1217</td>\n",
       "    </tr>\n",
       "    <tr>\n",
       "      <th>23</th>\n",
       "      <td>School</td>\n",
       "      <td>0.5</td>\n",
       "      <td>8703</td>\n",
       "      <td>1239</td>\n",
       "    </tr>\n",
       "    <tr>\n",
       "      <th>24</th>\n",
       "      <td>School</td>\n",
       "      <td>0.6</td>\n",
       "      <td>8680</td>\n",
       "      <td>1262</td>\n",
       "    </tr>\n",
       "    <tr>\n",
       "      <th>25</th>\n",
       "      <td>School</td>\n",
       "      <td>0.7</td>\n",
       "      <td>8617</td>\n",
       "      <td>1325</td>\n",
       "    </tr>\n",
       "  </tbody>\n",
       "</table>\n",
       "</div>"
      ],
      "text/plain": [
       "        Entity  Jaccard_Threshold Uniques Near_Duplicates\n",
       "0          All                0.3    8448            1423\n",
       "1          All                0.4    8328            1543\n",
       "2          All                0.5    8252            1619\n",
       "3          All                0.6    8138            1733\n",
       "4          All                0.7    7930            1941\n",
       "5          NGO                0.2    8806            1278\n",
       "6          NGO                0.3    8780            1304\n",
       "7          NGO                0.4    8762            1322\n",
       "8          NGO                0.5    8742            1342\n",
       "9          NGO                0.6    8705            1379\n",
       "10         NGO                0.7    8620            1464\n",
       "11  Government                0.3    8680            1214\n",
       "12  Government                0.4    8663            1231\n",
       "13  Government                0.5    8632            1262\n",
       "14  Government                0.6    8591            1303\n",
       "15  Government                0.7    8525            1369\n",
       "16  University                0.3    8932            1092\n",
       "17  University                0.4    8892            1132\n",
       "18  University                0.5    8837            1187\n",
       "19  University                0.6    8734            1290\n",
       "20  University                0.7    8549            1475\n",
       "21      School                0.3    8770            1172\n",
       "22      School                0.4    8725            1217\n",
       "23      School                0.5    8703            1239\n",
       "24      School                0.6    8680            1262\n",
       "25      School                0.7    8617            1325"
      ]
     },
     "execution_count": 53,
     "metadata": {},
     "output_type": "execute_result"
    }
   ],
   "source": [
    "df_score"
   ]
  },
  {
   "cell_type": "code",
   "execution_count": 54,
   "id": "cc3d5b3b-9d83-42cc-b6d6-8d8e7ade224f",
   "metadata": {},
   "outputs": [],
   "source": [
    "df_score.to_csv(\"gs://msca-bdp-students-bucket/shared_data/safzal1/similarities/all_again_afterregex.csv\", mode = 'w')"
   ]
  },
  {
   "cell_type": "markdown",
   "id": "6ebf4253-43f8-4922-b2ba-4373d27b605a",
   "metadata": {},
   "source": [
    "### Finding Similarity for all News Entities"
   ]
  },
  {
   "cell_type": "code",
   "execution_count": 55,
   "id": "bee6406f-c2bc-49ca-ab8d-8243f45746b8",
   "metadata": {},
   "outputs": [],
   "source": [
    "df_tweets_news = df_tweets.filter(col('Category') == 'News Outlets')"
   ]
  },
  {
   "cell_type": "code",
   "execution_count": 56,
   "id": "ab09a03e-7e90-4983-b17c-3df3a385434c",
   "metadata": {},
   "outputs": [
    {
     "name": "stderr",
     "output_type": "stream",
     "text": [
      "                                                                                \r"
     ]
    },
    {
     "data": {
      "text/plain": [
       "183925"
      ]
     },
     "execution_count": 56,
     "metadata": {},
     "output_type": "execute_result"
    }
   ],
   "source": [
    "df_tweets_news.count()"
   ]
  },
  {
   "cell_type": "code",
   "execution_count": 57,
   "id": "5a14df57-f774-44a8-9138-fef0b467539e",
   "metadata": {},
   "outputs": [
    {
     "name": "stderr",
     "output_type": "stream",
     "text": [
      "                                                                                \r"
     ]
    }
   ],
   "source": [
    "frac = 10000/ df_tweets_news.count()"
   ]
  },
  {
   "cell_type": "code",
   "execution_count": 58,
   "id": "61990975-10c4-4d38-8a98-3d8a91f00f7f",
   "metadata": {},
   "outputs": [],
   "source": [
    "text2 = df_tweets_news.sample(fraction=frac, withReplacement=False, seed = 123).rdd.map(lambda x : x['Tweet_Text']).filter(lambda x: x is not None)\n",
    "StopWords = stopwords.words(\"english\")"
   ]
  },
  {
   "cell_type": "code",
   "execution_count": 59,
   "id": "71c5fac7-ffaa-4779-9293-f653ada88ef7",
   "metadata": {},
   "outputs": [
    {
     "name": "stderr",
     "output_type": "stream",
     "text": [
      "                                                                                \r"
     ]
    },
    {
     "data": {
      "text/plain": [
       "10050"
      ]
     },
     "execution_count": 59,
     "metadata": {},
     "output_type": "execute_result"
    }
   ],
   "source": [
    "text2.count()"
   ]
  },
  {
   "cell_type": "code",
   "execution_count": null,
   "id": "fb781f79-935c-499c-8d50-36c7b41f066a",
   "metadata": {},
   "outputs": [
    {
     "name": "stderr",
     "output_type": "stream",
     "text": [
      "                                                                                \r"
     ]
    }
   ],
   "source": [
    "jacards = [0.3,0.4,0.5,0.6,0.7]\n",
    "for i in range(0,5):\n",
    "    a,b = my_function(text2, jacards[i] )\n",
    "    new_row = {'Entity': 'News Outlets', 'Jaccard_Threshold': jacards[i], 'Uniques': a, 'Near_Duplicates' :b}\n",
    "    df_score = df_score.append(new_row, ignore_index=True)\n"
   ]
  },
  {
   "cell_type": "code",
   "execution_count": null,
   "id": "7a797cca-580b-4f83-a0b3-d2c7cca694b1",
   "metadata": {},
   "outputs": [
    {
     "data": {
      "text/html": [
       "<div>\n",
       "<style scoped>\n",
       "    .dataframe tbody tr th:only-of-type {\n",
       "        vertical-align: middle;\n",
       "    }\n",
       "\n",
       "    .dataframe tbody tr th {\n",
       "        vertical-align: top;\n",
       "    }\n",
       "\n",
       "    .dataframe thead th {\n",
       "        text-align: right;\n",
       "    }\n",
       "</style>\n",
       "<table border=\"1\" class=\"dataframe\">\n",
       "  <thead>\n",
       "    <tr style=\"text-align: right;\">\n",
       "      <th></th>\n",
       "      <th>Entity</th>\n",
       "      <th>Jaccard_Threshold</th>\n",
       "      <th>Uniques</th>\n",
       "      <th>Near_Duplicates</th>\n",
       "    </tr>\n",
       "  </thead>\n",
       "  <tbody>\n",
       "    <tr>\n",
       "      <th>0</th>\n",
       "      <td>All</td>\n",
       "      <td>0.3</td>\n",
       "      <td>8448</td>\n",
       "      <td>1423</td>\n",
       "    </tr>\n",
       "    <tr>\n",
       "      <th>1</th>\n",
       "      <td>All</td>\n",
       "      <td>0.4</td>\n",
       "      <td>8328</td>\n",
       "      <td>1543</td>\n",
       "    </tr>\n",
       "    <tr>\n",
       "      <th>2</th>\n",
       "      <td>All</td>\n",
       "      <td>0.5</td>\n",
       "      <td>8252</td>\n",
       "      <td>1619</td>\n",
       "    </tr>\n",
       "    <tr>\n",
       "      <th>3</th>\n",
       "      <td>All</td>\n",
       "      <td>0.6</td>\n",
       "      <td>8138</td>\n",
       "      <td>1733</td>\n",
       "    </tr>\n",
       "    <tr>\n",
       "      <th>4</th>\n",
       "      <td>All</td>\n",
       "      <td>0.7</td>\n",
       "      <td>7930</td>\n",
       "      <td>1941</td>\n",
       "    </tr>\n",
       "    <tr>\n",
       "      <th>...</th>\n",
       "      <td>...</td>\n",
       "      <td>...</td>\n",
       "      <td>...</td>\n",
       "      <td>...</td>\n",
       "    </tr>\n",
       "    <tr>\n",
       "      <th>27</th>\n",
       "      <td>News Outlets</td>\n",
       "      <td>0.3</td>\n",
       "      <td>8851</td>\n",
       "      <td>1199</td>\n",
       "    </tr>\n",
       "    <tr>\n",
       "      <th>28</th>\n",
       "      <td>News Outlets</td>\n",
       "      <td>0.4</td>\n",
       "      <td>8826</td>\n",
       "      <td>1224</td>\n",
       "    </tr>\n",
       "    <tr>\n",
       "      <th>29</th>\n",
       "      <td>News Outlets</td>\n",
       "      <td>0.5</td>\n",
       "      <td>8812</td>\n",
       "      <td>1238</td>\n",
       "    </tr>\n",
       "    <tr>\n",
       "      <th>30</th>\n",
       "      <td>News Outlets</td>\n",
       "      <td>0.6</td>\n",
       "      <td>8784</td>\n",
       "      <td>1266</td>\n",
       "    </tr>\n",
       "    <tr>\n",
       "      <th>31</th>\n",
       "      <td>News Outlets</td>\n",
       "      <td>0.7</td>\n",
       "      <td>8714</td>\n",
       "      <td>1336</td>\n",
       "    </tr>\n",
       "  </tbody>\n",
       "</table>\n",
       "<p>32 rows × 4 columns</p>\n",
       "</div>"
      ],
      "text/plain": [
       "          Entity  Jaccard_Threshold Uniques Near_Duplicates\n",
       "0            All                0.3    8448            1423\n",
       "1            All                0.4    8328            1543\n",
       "2            All                0.5    8252            1619\n",
       "3            All                0.6    8138            1733\n",
       "4            All                0.7    7930            1941\n",
       "..           ...                ...     ...             ...\n",
       "27  News Outlets                0.3    8851            1199\n",
       "28  News Outlets                0.4    8826            1224\n",
       "29  News Outlets                0.5    8812            1238\n",
       "30  News Outlets                0.6    8784            1266\n",
       "31  News Outlets                0.7    8714            1336\n",
       "\n",
       "[32 rows x 4 columns]"
      ]
     },
     "execution_count": 61,
     "metadata": {},
     "output_type": "execute_result"
    }
   ],
   "source": [
    "df_score"
   ]
  },
  {
   "cell_type": "code",
   "execution_count": null,
   "id": "3d05b9df-1705-470b-84f4-e509fd3cb515",
   "metadata": {
    "tags": []
   },
   "outputs": [],
   "source": [
    "#df_score.to_csv(\"gs://msca-bdp-students-bucket/shared_data/safzal1/similarities/all.csv\", mode = 'w')"
   ]
  },
  {
   "cell_type": "code",
   "execution_count": 63,
   "id": "97864816-26ec-4bca-a244-4014e1cacd97",
   "metadata": {},
   "outputs": [],
   "source": [
    "df_score.to_csv(\"gs://msca-bdp-students-bucket/shared_data/safzal1/similarities/all_again_afterregex.csv\", mode = 'w')"
   ]
  },
  {
   "cell_type": "markdown",
   "id": "84787851-4e38-44ad-949b-60240c7db390",
   "metadata": {
    "tags": []
   },
   "source": [
    "### Finding Similarity for all SM Influencer "
   ]
  },
  {
   "cell_type": "code",
   "execution_count": 64,
   "id": "5d0b06aa-3909-49e1-8d5f-23b1b96afa17",
   "metadata": {},
   "outputs": [],
   "source": [
    "df_tweets_SM = df_tweets.filter(col('Category') == 'Social Media Influencer')"
   ]
  },
  {
   "cell_type": "code",
   "execution_count": 65,
   "id": "ae1030a0-a0f2-4166-bf67-6cb45ae02450",
   "metadata": {},
   "outputs": [
    {
     "name": "stderr",
     "output_type": "stream",
     "text": [
      "                                                                                \r"
     ]
    },
    {
     "data": {
      "text/plain": [
       "68538"
      ]
     },
     "execution_count": 65,
     "metadata": {},
     "output_type": "execute_result"
    }
   ],
   "source": [
    "df_tweets_SM.count()"
   ]
  },
  {
   "cell_type": "code",
   "execution_count": 66,
   "id": "a77750e8-05a4-494b-a2e1-19db7e7fa926",
   "metadata": {},
   "outputs": [
    {
     "name": "stderr",
     "output_type": "stream",
     "text": [
      "                                                                                \r"
     ]
    }
   ],
   "source": [
    "frac = 10000/ df_tweets_SM.count()"
   ]
  },
  {
   "cell_type": "code",
   "execution_count": 67,
   "id": "31b34b6c-f58b-4805-ba34-3ed5e01faf75",
   "metadata": {},
   "outputs": [],
   "source": [
    "text2 = df_tweets_SM.sample(fraction=frac, withReplacement=False, seed = 123).rdd.map(lambda x : x['Tweet_Text']).filter(lambda x: x is not None)\n",
    "StopWords = stopwords.words(\"english\")"
   ]
  },
  {
   "cell_type": "code",
   "execution_count": 68,
   "id": "e832b5c8-d49d-4e40-a7c1-b22813dc498b",
   "metadata": {},
   "outputs": [
    {
     "name": "stderr",
     "output_type": "stream",
     "text": [
      "                                                                                \r"
     ]
    },
    {
     "data": {
      "text/plain": [
       "10124"
      ]
     },
     "execution_count": 68,
     "metadata": {},
     "output_type": "execute_result"
    }
   ],
   "source": [
    "text2.count()"
   ]
  },
  {
   "cell_type": "code",
   "execution_count": null,
   "id": "a0b6bf85-6b8c-4b0c-82c4-590cff34ae48",
   "metadata": {},
   "outputs": [
    {
     "name": "stderr",
     "output_type": "stream",
     "text": [
      "                                                                                \r"
     ]
    }
   ],
   "source": [
    "# for All tweets\n",
    "jacards = [0.3,0.4,0.5,0.6,0.7]\n",
    "for i in range(0,5):\n",
    "    a,b = my_function(text2, jacards[i] )\n",
    "    new_row = {'Entity': 'Social Media Influencer', 'Jaccard_Threshold': jacards[i], 'Uniques': a, 'Near_Duplicates' :b}\n",
    "    df_score = df_score.append(new_row, ignore_index=True)\n"
   ]
  },
  {
   "cell_type": "code",
   "execution_count": 84,
   "id": "51964906-7691-4dbd-90bd-87b02f7c340b",
   "metadata": {},
   "outputs": [],
   "source": [
    "pd.set_option('display.max_rows', 50)"
   ]
  },
  {
   "cell_type": "code",
   "execution_count": 85,
   "id": "5dc90337-5a19-4114-b5ff-d109e4a0807e",
   "metadata": {},
   "outputs": [
    {
     "data": {
      "text/html": [
       "<div>\n",
       "<style scoped>\n",
       "    .dataframe tbody tr th:only-of-type {\n",
       "        vertical-align: middle;\n",
       "    }\n",
       "\n",
       "    .dataframe tbody tr th {\n",
       "        vertical-align: top;\n",
       "    }\n",
       "\n",
       "    .dataframe thead th {\n",
       "        text-align: right;\n",
       "    }\n",
       "</style>\n",
       "<table border=\"1\" class=\"dataframe\">\n",
       "  <thead>\n",
       "    <tr style=\"text-align: right;\">\n",
       "      <th></th>\n",
       "      <th>Entity</th>\n",
       "      <th>Jaccard_Threshold</th>\n",
       "      <th>Uniques</th>\n",
       "      <th>Near_Duplicates</th>\n",
       "    </tr>\n",
       "  </thead>\n",
       "  <tbody>\n",
       "    <tr>\n",
       "      <th>0</th>\n",
       "      <td>All</td>\n",
       "      <td>0.3</td>\n",
       "      <td>8448</td>\n",
       "      <td>1423</td>\n",
       "    </tr>\n",
       "    <tr>\n",
       "      <th>1</th>\n",
       "      <td>All</td>\n",
       "      <td>0.4</td>\n",
       "      <td>8328</td>\n",
       "      <td>1543</td>\n",
       "    </tr>\n",
       "    <tr>\n",
       "      <th>2</th>\n",
       "      <td>All</td>\n",
       "      <td>0.5</td>\n",
       "      <td>8252</td>\n",
       "      <td>1619</td>\n",
       "    </tr>\n",
       "    <tr>\n",
       "      <th>3</th>\n",
       "      <td>All</td>\n",
       "      <td>0.6</td>\n",
       "      <td>8138</td>\n",
       "      <td>1733</td>\n",
       "    </tr>\n",
       "    <tr>\n",
       "      <th>4</th>\n",
       "      <td>All</td>\n",
       "      <td>0.7</td>\n",
       "      <td>7930</td>\n",
       "      <td>1941</td>\n",
       "    </tr>\n",
       "    <tr>\n",
       "      <th>6</th>\n",
       "      <td>NGO</td>\n",
       "      <td>0.3</td>\n",
       "      <td>8780</td>\n",
       "      <td>1304</td>\n",
       "    </tr>\n",
       "    <tr>\n",
       "      <th>7</th>\n",
       "      <td>NGO</td>\n",
       "      <td>0.4</td>\n",
       "      <td>8762</td>\n",
       "      <td>1322</td>\n",
       "    </tr>\n",
       "    <tr>\n",
       "      <th>8</th>\n",
       "      <td>NGO</td>\n",
       "      <td>0.5</td>\n",
       "      <td>8742</td>\n",
       "      <td>1342</td>\n",
       "    </tr>\n",
       "    <tr>\n",
       "      <th>9</th>\n",
       "      <td>NGO</td>\n",
       "      <td>0.6</td>\n",
       "      <td>8705</td>\n",
       "      <td>1379</td>\n",
       "    </tr>\n",
       "    <tr>\n",
       "      <th>10</th>\n",
       "      <td>NGO</td>\n",
       "      <td>0.7</td>\n",
       "      <td>8620</td>\n",
       "      <td>1464</td>\n",
       "    </tr>\n",
       "    <tr>\n",
       "      <th>11</th>\n",
       "      <td>Government</td>\n",
       "      <td>0.3</td>\n",
       "      <td>8680</td>\n",
       "      <td>1214</td>\n",
       "    </tr>\n",
       "    <tr>\n",
       "      <th>12</th>\n",
       "      <td>Government</td>\n",
       "      <td>0.4</td>\n",
       "      <td>8663</td>\n",
       "      <td>1231</td>\n",
       "    </tr>\n",
       "    <tr>\n",
       "      <th>13</th>\n",
       "      <td>Government</td>\n",
       "      <td>0.5</td>\n",
       "      <td>8632</td>\n",
       "      <td>1262</td>\n",
       "    </tr>\n",
       "    <tr>\n",
       "      <th>14</th>\n",
       "      <td>Government</td>\n",
       "      <td>0.6</td>\n",
       "      <td>8591</td>\n",
       "      <td>1303</td>\n",
       "    </tr>\n",
       "    <tr>\n",
       "      <th>15</th>\n",
       "      <td>Government</td>\n",
       "      <td>0.7</td>\n",
       "      <td>8525</td>\n",
       "      <td>1369</td>\n",
       "    </tr>\n",
       "    <tr>\n",
       "      <th>16</th>\n",
       "      <td>University</td>\n",
       "      <td>0.3</td>\n",
       "      <td>8932</td>\n",
       "      <td>1092</td>\n",
       "    </tr>\n",
       "    <tr>\n",
       "      <th>17</th>\n",
       "      <td>University</td>\n",
       "      <td>0.4</td>\n",
       "      <td>8892</td>\n",
       "      <td>1132</td>\n",
       "    </tr>\n",
       "    <tr>\n",
       "      <th>18</th>\n",
       "      <td>University</td>\n",
       "      <td>0.5</td>\n",
       "      <td>8837</td>\n",
       "      <td>1187</td>\n",
       "    </tr>\n",
       "    <tr>\n",
       "      <th>19</th>\n",
       "      <td>University</td>\n",
       "      <td>0.6</td>\n",
       "      <td>8734</td>\n",
       "      <td>1290</td>\n",
       "    </tr>\n",
       "    <tr>\n",
       "      <th>20</th>\n",
       "      <td>University</td>\n",
       "      <td>0.7</td>\n",
       "      <td>8549</td>\n",
       "      <td>1475</td>\n",
       "    </tr>\n",
       "    <tr>\n",
       "      <th>21</th>\n",
       "      <td>School</td>\n",
       "      <td>0.3</td>\n",
       "      <td>8770</td>\n",
       "      <td>1172</td>\n",
       "    </tr>\n",
       "    <tr>\n",
       "      <th>22</th>\n",
       "      <td>School</td>\n",
       "      <td>0.4</td>\n",
       "      <td>8725</td>\n",
       "      <td>1217</td>\n",
       "    </tr>\n",
       "    <tr>\n",
       "      <th>23</th>\n",
       "      <td>School</td>\n",
       "      <td>0.5</td>\n",
       "      <td>8703</td>\n",
       "      <td>1239</td>\n",
       "    </tr>\n",
       "    <tr>\n",
       "      <th>24</th>\n",
       "      <td>School</td>\n",
       "      <td>0.6</td>\n",
       "      <td>8680</td>\n",
       "      <td>1262</td>\n",
       "    </tr>\n",
       "    <tr>\n",
       "      <th>25</th>\n",
       "      <td>School</td>\n",
       "      <td>0.7</td>\n",
       "      <td>8617</td>\n",
       "      <td>1325</td>\n",
       "    </tr>\n",
       "    <tr>\n",
       "      <th>27</th>\n",
       "      <td>News Outlets</td>\n",
       "      <td>0.3</td>\n",
       "      <td>8851</td>\n",
       "      <td>1199</td>\n",
       "    </tr>\n",
       "    <tr>\n",
       "      <th>28</th>\n",
       "      <td>News Outlets</td>\n",
       "      <td>0.4</td>\n",
       "      <td>8826</td>\n",
       "      <td>1224</td>\n",
       "    </tr>\n",
       "    <tr>\n",
       "      <th>29</th>\n",
       "      <td>News Outlets</td>\n",
       "      <td>0.5</td>\n",
       "      <td>8812</td>\n",
       "      <td>1238</td>\n",
       "    </tr>\n",
       "    <tr>\n",
       "      <th>30</th>\n",
       "      <td>News Outlets</td>\n",
       "      <td>0.6</td>\n",
       "      <td>8784</td>\n",
       "      <td>1266</td>\n",
       "    </tr>\n",
       "    <tr>\n",
       "      <th>31</th>\n",
       "      <td>News Outlets</td>\n",
       "      <td>0.7</td>\n",
       "      <td>8714</td>\n",
       "      <td>1336</td>\n",
       "    </tr>\n",
       "    <tr>\n",
       "      <th>33</th>\n",
       "      <td>Social Media Influencer</td>\n",
       "      <td>0.3</td>\n",
       "      <td>9244</td>\n",
       "      <td>880</td>\n",
       "    </tr>\n",
       "    <tr>\n",
       "      <th>34</th>\n",
       "      <td>Social Media Influencer</td>\n",
       "      <td>0.4</td>\n",
       "      <td>9221</td>\n",
       "      <td>903</td>\n",
       "    </tr>\n",
       "    <tr>\n",
       "      <th>35</th>\n",
       "      <td>Social Media Influencer</td>\n",
       "      <td>0.5</td>\n",
       "      <td>9210</td>\n",
       "      <td>914</td>\n",
       "    </tr>\n",
       "    <tr>\n",
       "      <th>36</th>\n",
       "      <td>Social Media Influencer</td>\n",
       "      <td>0.6</td>\n",
       "      <td>9184</td>\n",
       "      <td>940</td>\n",
       "    </tr>\n",
       "    <tr>\n",
       "      <th>37</th>\n",
       "      <td>Social Media Influencer</td>\n",
       "      <td>0.7</td>\n",
       "      <td>9095</td>\n",
       "      <td>1029</td>\n",
       "    </tr>\n",
       "    <tr>\n",
       "      <th>39</th>\n",
       "      <td>Others</td>\n",
       "      <td>0.3</td>\n",
       "      <td>7997</td>\n",
       "      <td>1874</td>\n",
       "    </tr>\n",
       "    <tr>\n",
       "      <th>40</th>\n",
       "      <td>Others</td>\n",
       "      <td>0.4</td>\n",
       "      <td>7818</td>\n",
       "      <td>2053</td>\n",
       "    </tr>\n",
       "    <tr>\n",
       "      <th>41</th>\n",
       "      <td>Others</td>\n",
       "      <td>0.5</td>\n",
       "      <td>7747</td>\n",
       "      <td>2124</td>\n",
       "    </tr>\n",
       "    <tr>\n",
       "      <th>42</th>\n",
       "      <td>Others</td>\n",
       "      <td>0.6</td>\n",
       "      <td>7667</td>\n",
       "      <td>2204</td>\n",
       "    </tr>\n",
       "    <tr>\n",
       "      <th>43</th>\n",
       "      <td>Others</td>\n",
       "      <td>0.7</td>\n",
       "      <td>7426</td>\n",
       "      <td>2445</td>\n",
       "    </tr>\n",
       "  </tbody>\n",
       "</table>\n",
       "</div>"
      ],
      "text/plain": [
       "                     Entity  Jaccard_Threshold Uniques Near_Duplicates\n",
       "0                       All                0.3    8448            1423\n",
       "1                       All                0.4    8328            1543\n",
       "2                       All                0.5    8252            1619\n",
       "3                       All                0.6    8138            1733\n",
       "4                       All                0.7    7930            1941\n",
       "6                       NGO                0.3    8780            1304\n",
       "7                       NGO                0.4    8762            1322\n",
       "8                       NGO                0.5    8742            1342\n",
       "9                       NGO                0.6    8705            1379\n",
       "10                      NGO                0.7    8620            1464\n",
       "11               Government                0.3    8680            1214\n",
       "12               Government                0.4    8663            1231\n",
       "13               Government                0.5    8632            1262\n",
       "14               Government                0.6    8591            1303\n",
       "15               Government                0.7    8525            1369\n",
       "16               University                0.3    8932            1092\n",
       "17               University                0.4    8892            1132\n",
       "18               University                0.5    8837            1187\n",
       "19               University                0.6    8734            1290\n",
       "20               University                0.7    8549            1475\n",
       "21                   School                0.3    8770            1172\n",
       "22                   School                0.4    8725            1217\n",
       "23                   School                0.5    8703            1239\n",
       "24                   School                0.6    8680            1262\n",
       "25                   School                0.7    8617            1325\n",
       "27             News Outlets                0.3    8851            1199\n",
       "28             News Outlets                0.4    8826            1224\n",
       "29             News Outlets                0.5    8812            1238\n",
       "30             News Outlets                0.6    8784            1266\n",
       "31             News Outlets                0.7    8714            1336\n",
       "33  Social Media Influencer                0.3    9244             880\n",
       "34  Social Media Influencer                0.4    9221             903\n",
       "35  Social Media Influencer                0.5    9210             914\n",
       "36  Social Media Influencer                0.6    9184             940\n",
       "37  Social Media Influencer                0.7    9095            1029\n",
       "39                   Others                0.3    7997            1874\n",
       "40                   Others                0.4    7818            2053\n",
       "41                   Others                0.5    7747            2124\n",
       "42                   Others                0.6    7667            2204\n",
       "43                   Others                0.7    7426            2445"
      ]
     },
     "execution_count": 85,
     "metadata": {},
     "output_type": "execute_result"
    }
   ],
   "source": [
    "df_score"
   ]
  },
  {
   "cell_type": "code",
   "execution_count": 86,
   "id": "d61c9d45-2ac8-4f3d-96d6-929e968f89e6",
   "metadata": {},
   "outputs": [],
   "source": [
    "df_score.to_csv(\"gs://msca-bdp-students-bucket/shared_data/safzal1/similarities/all_again_afterregex.csv\", mode = 'w', index = False)"
   ]
  },
  {
   "cell_type": "code",
   "execution_count": null,
   "id": "df2af581-2f7f-4802-9dc4-c89c00a2aab8",
   "metadata": {},
   "outputs": [],
   "source": []
  },
  {
   "cell_type": "markdown",
   "id": "080cc873-12dd-42ce-8cbe-7f5e8fc89b34",
   "metadata": {
    "tags": []
   },
   "source": [
    "### Finding Similarity for all others"
   ]
  },
  {
   "cell_type": "code",
   "execution_count": 74,
   "id": "f247e2bd-26da-413a-ae63-8cc82edb1eaf",
   "metadata": {},
   "outputs": [],
   "source": [
    "df_tweets_oth = df_tweets.filter(col('Category') == 'others')"
   ]
  },
  {
   "cell_type": "code",
   "execution_count": 75,
   "id": "93f84aae-20ee-4970-99da-3650c35f3452",
   "metadata": {},
   "outputs": [
    {
     "name": "stderr",
     "output_type": "stream",
     "text": [
      "                                                                                \r"
     ]
    },
    {
     "data": {
      "text/plain": [
       "737964"
      ]
     },
     "execution_count": 75,
     "metadata": {},
     "output_type": "execute_result"
    }
   ],
   "source": [
    "df_tweets_oth.count()"
   ]
  },
  {
   "cell_type": "code",
   "execution_count": 76,
   "id": "1bc3bf8c-b26e-457d-b2cd-f77166b09f4c",
   "metadata": {},
   "outputs": [
    {
     "name": "stderr",
     "output_type": "stream",
     "text": [
      "                                                                                \r"
     ]
    }
   ],
   "source": [
    "frac = 10000/ df_tweets_oth.count()"
   ]
  },
  {
   "cell_type": "code",
   "execution_count": 77,
   "id": "20683607-eb64-42e7-9311-577e033d0ee5",
   "metadata": {},
   "outputs": [],
   "source": [
    "text2 = df_tweets_oth.sample(fraction=frac, withReplacement=False, seed = 123).rdd.map(lambda x : x['Tweet_Text']).filter(lambda x: x is not None)\n",
    "StopWords = stopwords.words(\"english\")"
   ]
  },
  {
   "cell_type": "code",
   "execution_count": 78,
   "id": "783f90b9-c05e-4d4d-b02d-bd0d61796746",
   "metadata": {},
   "outputs": [
    {
     "name": "stderr",
     "output_type": "stream",
     "text": [
      "                                                                                \r"
     ]
    },
    {
     "data": {
      "text/plain": [
       "9871"
      ]
     },
     "execution_count": 78,
     "metadata": {},
     "output_type": "execute_result"
    }
   ],
   "source": [
    "text2.count()"
   ]
  },
  {
   "cell_type": "code",
   "execution_count": 79,
   "id": "887b8168-a1c5-4ddd-91dc-18cb500da972",
   "metadata": {},
   "outputs": [
    {
     "name": "stderr",
     "output_type": "stream",
     "text": [
      "                                                                                \r"
     ]
    }
   ],
   "source": [
    "# for others category tweets\n",
    "jacards = [0.3,0.4,0.5,0.6,0.7]\n",
    "for i in range(0,5):\n",
    "    a,b = my_function(text2, jacards[i] )\n",
    "    new_row = {'Entity': 'Others', 'Jaccard_Threshold': jacards[i], 'Uniques': a, 'Near_Duplicates' :b}\n",
    "    df_score = df_score.append(new_row, ignore_index=True)\n"
   ]
  },
  {
   "cell_type": "code",
   "execution_count": null,
   "id": "cd6c210d-a607-4099-bcd5-ac57e2173ae8",
   "metadata": {},
   "outputs": [],
   "source": []
  },
  {
   "cell_type": "code",
   "execution_count": 89,
   "id": "c8047ecc-d515-4d77-a553-280b3db233c5",
   "metadata": {},
   "outputs": [],
   "source": [
    "df_pd = df_score"
   ]
  },
  {
   "cell_type": "code",
   "execution_count": 90,
   "id": "634c30ec-7d5b-4ee6-9fd2-3f8fc59e696b",
   "metadata": {},
   "outputs": [],
   "source": [
    "df_pd.Entity[df_pd.Entity == 'Social Media Influencer'] = 'SM Influencers'"
   ]
  },
  {
   "cell_type": "code",
   "execution_count": 91,
   "id": "97948c7e-2ef6-4841-b8d9-458914185e40",
   "metadata": {},
   "outputs": [],
   "source": [
    "df_pd['Frac_of_Dups'] = df_pd.Near_Duplicates / (df_pd.Uniques + df_pd.Near_Duplicates)"
   ]
  },
  {
   "cell_type": "code",
   "execution_count": 92,
   "id": "d4971539-b2c8-4784-bbb8-38670039ed06",
   "metadata": {},
   "outputs": [],
   "source": [
    "df_pd['Frac_of_Uniq'] = df_pd.Uniques / (df_pd.Uniques + df_pd.Near_Duplicates)"
   ]
  },
  {
   "cell_type": "code",
   "execution_count": 101,
   "id": "a98a5dc7-6e83-4ac1-9cab-0e6188e1554c",
   "metadata": {},
   "outputs": [],
   "source": [
    "df_pd.Uniques = df_pd.Uniques.astype('int')\n",
    "df_pd.Near_Duplicates = df_pd.Near_Duplicates.astype('int')\n",
    "df_pd.Frac_of_Dups = df_pd.Frac_of_Dups.astype('float')\n",
    "df_pd.Frac_of_Uniq = df_pd.Frac_of_Uniq.astype('float')"
   ]
  },
  {
   "cell_type": "code",
   "execution_count": 117,
   "id": "579b4438-38e3-499b-8f4f-47cb1abb579e",
   "metadata": {},
   "outputs": [],
   "source": [
    "df_pd['Per_of_Dups'] = df_pd['Frac_of_Dups'] * 100"
   ]
  },
  {
   "cell_type": "code",
   "execution_count": 118,
   "id": "cdcf28ea-802a-4ecc-8b3d-c4caebe1b265",
   "metadata": {},
   "outputs": [],
   "source": [
    "df_pivot = df_pd.pivot_table(index='Entity', columns='Jaccard_Threshold', values='Per_of_Dups')"
   ]
  },
  {
   "cell_type": "code",
   "execution_count": 119,
   "id": "34136185-e4a1-475c-9206-38530fbb38d4",
   "metadata": {},
   "outputs": [],
   "source": [
    "df_pivot = df_pivot.round(3)"
   ]
  },
  {
   "cell_type": "code",
   "execution_count": 126,
   "id": "20a7b972-a43f-4429-b22e-c30df12c4c20",
   "metadata": {},
   "outputs": [
    {
     "data": {
      "text/plain": [
       "<Figure size 1920x1440 with 0 Axes>"
      ]
     },
     "metadata": {},
     "output_type": "display_data"
    },
    {
     "data": {
      "image/png": "[encoded data removed]",
      "text/plain": [
       "<Figure size 640x480 with 1 Axes>"
      ]
     },
     "metadata": {},
     "output_type": "display_data"
    }
   ],
   "source": [
    "plt.figure(dpi = 300)\n",
    "colors = sns.color_palette('pastel')[0:5]\n",
    "ax = df_pivot.plot(kind='bar', stacked=True, color = colors)\n",
    "plt.xlabel('Entity')\n",
    "plt.ylabel('Percentage of Duplicates')\n",
    "plt.title('Duplicates by Entity and Jaccard Threshold')\n",
    "plt.xticks(fontsize=8, rotation = 45)\n",
    "for container in ax.containers:\n",
    "    ax.bar_label(container, label_type='center', fontsize=6)\n",
    "plt.yticks([])\n",
    "plt.show()"
   ]
  },
  {
   "cell_type": "code",
   "execution_count": null,
   "id": "cb4f075b-11cb-495d-8802-ca2cf1df2c6f",
   "metadata": {},
   "outputs": [],
   "source": []
  }
 ],
 "metadata": {
  "kernelspec": {
   "display_name": "Python 3 (ipykernel)",
   "language": "python",
   "name": "python3"
  },
  "language_info": {
   "codemirror_mode": {
    "name": "ipython",
    "version": 3
   },
   "file_extension": ".py",
   "mimetype": "text/x-python",
   "name": "python",
   "nbconvert_exporter": "python",
   "pygments_lexer": "ipython3",
   "version": "3.9.12"
  }
 },
 "nbformat": 4,
 "nbformat_minor": 5
}
