{
 "cells": [
  {
   "cell_type": "markdown",
   "id": "cce9bdbf-8d32-4d7e-8eaa-a334159dddd5",
   "metadata": {},
   "source": [
    "### Step 2\n",
    "### EDA and Attributes Selection "
   ]
  },
  {
   "cell_type": "code",
   "execution_count": 1,
   "id": "77d4471f-bf0d-4ec3-842d-3293c6cdc420",
   "metadata": {},
   "outputs": [],
   "source": [
    "import os\n",
    "import time\n",
    "import subprocess\n",
    "\n",
    "from pyspark.sql.functions import *\n",
    "from pyspark.sql.types import *\n",
    "\n",
    "from pyspark.sql import SQLContext\n",
    "sqlContext = SQLContext(sc)"
   ]
  },
  {
   "cell_type": "code",
   "execution_count": 2,
   "id": "14827c03-6a4b-4b30-b9e5-4073c0c40211",
   "metadata": {},
   "outputs": [],
   "source": [
    "import pandas as pd\n",
    "import numpy as np\n",
    "import matplotlib.pyplot as plt\n",
    "import seaborn as sns"
   ]
  },
  {
   "cell_type": "code",
   "execution_count": 3,
   "id": "08eec2b2-5491-420a-872b-3f5af1e94213",
   "metadata": {},
   "outputs": [],
   "source": [
    "spark.conf.set(\"spark.sql.repl.eagerEval.enabled\",True)"
   ]
  },
  {
   "cell_type": "code",
   "execution_count": 4,
   "id": "4b27d40c-640b-4e56-b0b0-4f63833538c6",
   "metadata": {},
   "outputs": [
    {
     "name": "stderr",
     "output_type": "stream",
     "text": [
      "23/03/11 00:58:30 WARN org.apache.spark.sql.catalyst.util.package: Truncated the string representation of a plan since it was too large. This behavior can be adjusted by setting 'spark.sql.debug.maxToStringFields'.\n"
     ]
    }
   ],
   "source": [
    "df = spark.read.parquet(\"gs://msca-bdp-students-bucket/shared_data/safzal1/finalprojectdata_filtered_1.7M_3\")"
   ]
  },
  {
   "cell_type": "code",
   "execution_count": 5,
   "id": "8a00cfce-2a69-4d49-af64-f01d7dd0a25c",
   "metadata": {},
   "outputs": [
    {
     "data": {
      "text/plain": [
       "41"
      ]
     },
     "execution_count": 5,
     "metadata": {},
     "output_type": "execute_result"
    }
   ],
   "source": [
    "# total columns in root level\n",
    "len(df.columns)"
   ]
  },
  {
   "cell_type": "markdown",
   "id": "eac565e4-16d0-498f-a1ec-8e533a5e1c15",
   "metadata": {},
   "source": [
    "#### Picking up all necessary columns which will make sense for our analysis"
   ]
  },
  {
   "cell_type": "code",
   "execution_count": 6,
   "id": "a64977fd-249f-4141-9e52-44db0910443a",
   "metadata": {},
   "outputs": [],
   "source": [
    "data_dictionary = pd.DataFrame(columns = ['Twitter JSON', 'Local DataFrame'])"
   ]
  },
  {
   "cell_type": "code",
   "execution_count": 7,
   "id": "34c18e51-7712-46c2-af8f-160d0c5a9358",
   "metadata": {},
   "outputs": [],
   "source": [
    "data_dictionary.loc[0] = ['id','Tweet_ID' ]\n",
    "data_dictionary.loc[1] = ['entities.hashtags.text','Parsed_Hashtags' ]\n",
    "data_dictionary.loc[2] = ['user.id','User_ID' ]\n",
    "data_dictionary.loc[3] = ['user.screen_name','User_Name' ]\n",
    "data_dictionary.loc[4] = ['user.location','User_Defined_Location' ]\n",
    "data_dictionary.loc[5] = ['user.description','User_Description' ]\n",
    "data_dictionary.loc[6] = ['user.verified','User_Verified' ]\n",
    "data_dictionary.loc[7] = ['user.followers_count','User_Profile_Followers_Count' ]\n",
    "data_dictionary.loc[8] = ['user.statuses_count','User_Tweets-Retweet_Count' ]\n",
    "data_dictionary.loc[8] = ['user.listed_count','User_List_Count' ]\n",
    "data_dictionary.loc[10] = ['geo.coordinates','Tweet_Location_Lat-Long' ]\n",
    "data_dictionary.loc[11] = ['retweeted','If_Retweeted_Root' ]\n",
    "data_dictionary.loc[12] = ['place.country','Place_Country' ]\n",
    "data_dictionary.loc[13] = ['text','Parsed_Hashtags' ]\n",
    "data_dictionary.loc[14] = ['text','Text' ]\n",
    "data_dictionary.loc[15] = ['tweet_text','Tweet_Text' ]\n",
    "data_dictionary.loc[16] = ['created_at','Tweet_Date' ]\n",
    "data_dictionary.loc[17] = ['retweeted_status.entities.user_mentions.id','RT_Mentioned_User_ID' ]\n",
    "data_dictionary.loc[18] = ['retweeted_status.retweet_count','RT_Status_RT_Count' ]\n",
    "data_dictionary.loc[19] = ['retweeted_status.favorite_count','RT_Status_Like_Count' ]\n",
    "data_dictionary.loc[20] = ['retweeted_status.reply_count','RT_Status_Reply_Count' ]\n",
    "data_dictionary.loc[21] = ['retweeted_status.quote_count','RT_Stats_Quoted_Count' ]\n",
    "data_dictionary.loc[22] = ['retweeted_status.user.id','RT_Status_Original_User_ID' ]\n",
    "data_dictionary.loc[23] = ['retweeted_status.user.screen_name','RT_Status_Original_User_Screen_Name' ]\n",
    "data_dictionary.loc[24] = ['tweeretweeted_status.user.locationt_text','RT_Status_Original_User_Location' ]\n",
    "data_dictionary.loc[25] = ['retweeted_status.user.description','RT_Status_Original_User_Description' ]\n",
    "data_dictionary.loc[26] = ['retweeted_status.user.verified','RT_Status_Original_User_Verified' ]\n",
    "data_dictionary.loc[27] = ['retweeted_status.user.followers_coun','RT_Status_Original_User_followers_count' ]\n",
    "data_dictionary.loc[28] = ['retweeted_status.user.statuses_count','RT_Status_Original_User_statuses_count' ]\n",
    "data_dictionary.loc[29] = ['retweeted_status.user.listed_count','RT_Status_Original_User_listed_count' ]\n",
    "data_dictionary.loc[30] = ['retweeted_status.id','RT_Status_Original_Tweet_Id' ]\n",
    "data_dictionary.loc[31] = ['retweeted_status.text','RT_Status_Original_Tweet_Text' ]\n",
    "\n",
    "\n",
    "\n",
    "\n",
    "\n"
   ]
  },
  {
   "cell_type": "code",
   "execution_count": 8,
   "id": "d700446d-cd0f-4043-8268-3e34d10be133",
   "metadata": {},
   "outputs": [
    {
     "data": {
      "text/html": [
       "<div>\n",
       "<style scoped>\n",
       "    .dataframe tbody tr th:only-of-type {\n",
       "        vertical-align: middle;\n",
       "    }\n",
       "\n",
       "    .dataframe tbody tr th {\n",
       "        vertical-align: top;\n",
       "    }\n",
       "\n",
       "    .dataframe thead th {\n",
       "        text-align: right;\n",
       "    }\n",
       "</style>\n",
       "<table border=\"1\" class=\"dataframe\">\n",
       "  <thead>\n",
       "    <tr style=\"text-align: right;\">\n",
       "      <th></th>\n",
       "      <th>Twitter JSON</th>\n",
       "      <th>Local DataFrame</th>\n",
       "    </tr>\n",
       "  </thead>\n",
       "  <tbody>\n",
       "    <tr>\n",
       "      <th>16</th>\n",
       "      <td>created_at</td>\n",
       "      <td>Tweet_Date</td>\n",
       "    </tr>\n",
       "    <tr>\n",
       "      <th>17</th>\n",
       "      <td>retweeted_status.entities.user_mentions.id</td>\n",
       "      <td>RT_Mentioned_User_ID</td>\n",
       "    </tr>\n",
       "    <tr>\n",
       "      <th>18</th>\n",
       "      <td>retweeted_status.retweet_count</td>\n",
       "      <td>RT_Status_RT_Count</td>\n",
       "    </tr>\n",
       "    <tr>\n",
       "      <th>19</th>\n",
       "      <td>retweeted_status.favorite_count</td>\n",
       "      <td>RT_Status_Like_Count</td>\n",
       "    </tr>\n",
       "    <tr>\n",
       "      <th>20</th>\n",
       "      <td>retweeted_status.reply_count</td>\n",
       "      <td>RT_Status_Reply_Count</td>\n",
       "    </tr>\n",
       "    <tr>\n",
       "      <th>21</th>\n",
       "      <td>retweeted_status.quote_count</td>\n",
       "      <td>RT_Stats_Quoted_Count</td>\n",
       "    </tr>\n",
       "    <tr>\n",
       "      <th>22</th>\n",
       "      <td>retweeted_status.user.id</td>\n",
       "      <td>RT_Status_Original_User_ID</td>\n",
       "    </tr>\n",
       "    <tr>\n",
       "      <th>23</th>\n",
       "      <td>retweeted_status.user.screen_name</td>\n",
       "      <td>RT_Status_Original_User_Screen_Name</td>\n",
       "    </tr>\n",
       "    <tr>\n",
       "      <th>24</th>\n",
       "      <td>tweeretweeted_status.user.locationt_text</td>\n",
       "      <td>RT_Status_Original_User_Location</td>\n",
       "    </tr>\n",
       "    <tr>\n",
       "      <th>25</th>\n",
       "      <td>retweeted_status.user.description</td>\n",
       "      <td>RT_Status_Original_User_Description</td>\n",
       "    </tr>\n",
       "    <tr>\n",
       "      <th>26</th>\n",
       "      <td>retweeted_status.user.verified</td>\n",
       "      <td>RT_Status_Original_User_Verified</td>\n",
       "    </tr>\n",
       "    <tr>\n",
       "      <th>27</th>\n",
       "      <td>retweeted_status.user.followers_coun</td>\n",
       "      <td>RT_Status_Original_User_followers_count</td>\n",
       "    </tr>\n",
       "    <tr>\n",
       "      <th>28</th>\n",
       "      <td>retweeted_status.user.statuses_count</td>\n",
       "      <td>RT_Status_Original_User_statuses_count</td>\n",
       "    </tr>\n",
       "    <tr>\n",
       "      <th>29</th>\n",
       "      <td>retweeted_status.user.listed_count</td>\n",
       "      <td>RT_Status_Original_User_listed_count</td>\n",
       "    </tr>\n",
       "    <tr>\n",
       "      <th>30</th>\n",
       "      <td>retweeted_status.id</td>\n",
       "      <td>RT_Status_Original_Tweet_Id</td>\n",
       "    </tr>\n",
       "    <tr>\n",
       "      <th>31</th>\n",
       "      <td>retweeted_status.text</td>\n",
       "      <td>RT_Status_Original_Tweet_Text</td>\n",
       "    </tr>\n",
       "  </tbody>\n",
       "</table>\n",
       "</div>"
      ],
      "text/plain": [
       "                                  Twitter JSON  \\\n",
       "16                                  created_at   \n",
       "17  retweeted_status.entities.user_mentions.id   \n",
       "18              retweeted_status.retweet_count   \n",
       "19             retweeted_status.favorite_count   \n",
       "20                retweeted_status.reply_count   \n",
       "21                retweeted_status.quote_count   \n",
       "22                    retweeted_status.user.id   \n",
       "23           retweeted_status.user.screen_name   \n",
       "24    tweeretweeted_status.user.locationt_text   \n",
       "25           retweeted_status.user.description   \n",
       "26              retweeted_status.user.verified   \n",
       "27        retweeted_status.user.followers_coun   \n",
       "28        retweeted_status.user.statuses_count   \n",
       "29          retweeted_status.user.listed_count   \n",
       "30                         retweeted_status.id   \n",
       "31                       retweeted_status.text   \n",
       "\n",
       "                            Local DataFrame  \n",
       "16                               Tweet_Date  \n",
       "17                     RT_Mentioned_User_ID  \n",
       "18                       RT_Status_RT_Count  \n",
       "19                     RT_Status_Like_Count  \n",
       "20                    RT_Status_Reply_Count  \n",
       "21                    RT_Stats_Quoted_Count  \n",
       "22               RT_Status_Original_User_ID  \n",
       "23      RT_Status_Original_User_Screen_Name  \n",
       "24         RT_Status_Original_User_Location  \n",
       "25      RT_Status_Original_User_Description  \n",
       "26         RT_Status_Original_User_Verified  \n",
       "27  RT_Status_Original_User_followers_count  \n",
       "28   RT_Status_Original_User_statuses_count  \n",
       "29     RT_Status_Original_User_listed_count  \n",
       "30              RT_Status_Original_Tweet_Id  \n",
       "31            RT_Status_Original_Tweet_Text  "
      ]
     },
     "execution_count": 8,
     "metadata": {},
     "output_type": "execute_result"
    }
   ],
   "source": [
    "data_dictionary.tail(16)"
   ]
  },
  {
   "cell_type": "code",
   "execution_count": 9,
   "id": "e0bebb76-9097-46bf-98c0-936ec28fb8c2",
   "metadata": {},
   "outputs": [],
   "source": [
    "filtered_df = df.select(col('id').alias('Tweet_ID'),\\\n",
    "                col('retweeted_status.retweet_count').alias('RT_Status_RT_Count')\\\n",
    "               , col('retweeted_status.favorite_count').alias('RT_Status_Like_Count'),\\\n",
    "              col('retweeted_status.reply_count').alias('RT_Status_Reply_Count'),\\\n",
    "               col('retweeted_status.quote_count').alias('RT_Stats_Quoted_Count'),\\\n",
    "               col('retweeted_status.user.id').alias('RT_Status_Original_User_ID'),\\\n",
    "               col('retweeted_status.user.screen_name').alias('RT_Status_Original_User_Screen_Name'),\\\n",
    "               col('retweeted_status.user.location').alias('RT_Status_Original_User_Location'),\\\n",
    "               col('retweeted_status.user.description').alias('RT_Status_Original_User_Description'),\\\n",
    "               col('retweeted_status.user.verified').alias('RT_Status_Original_User_Verified'),\\\n",
    "               col('retweeted_status.user.followers_count').alias('RT_Status_Original_User_followers_count'),\\\n",
    "               col('retweeted_status.user.statuses_count').alias('RT_Status_Original_User_statuses_count'),\\\n",
    "               col('retweeted_status.user.listed_count').alias('RT_Status_Original_User_listed_count'),\\\n",
    "               col('retweeted_status.id').alias('RT_Status_Original_Tweet_Id'),\\\n",
    "               col('retweeted_status.text').alias('RT_Status_Original_Tweet_Text'),\\\n",
    "               col('retweeted_status.created_at').alias('RT_Status_Original_Tweet_Created_at'),\\\n",
    "\n",
    "                        \n",
    "    \n",
    "               col('entities.hashtags.text').alias('Parsed_Hashtags'),\\\n",
    "               col('user.id').alias('User_ID'),\\\n",
    "               col('user.screen_name').alias('User_Name'),\\\n",
    "               col('user.location').alias('User_Defined_Location'),\\\n",
    "               col('user.description').alias('User_Description'),\\\n",
    "               col('user.verified').alias('User_Verified'),\\\n",
    "               col('user.followers_count').alias('User_Profile_Followers_Count'),\\\n",
    "               col('user.statuses_count').alias('User_Tweets-Retweet_Count'),\\\n",
    "               col('user.listed_count').alias('User_List_Count'),\\\n",
    "               col('user.created_at').alias('User_ID_Creation_Date'),\\\n",
    "               col('retweeted_status.entities.user_mentions.id').alias('RT_Mentioned_User_ID'),\\\n",
    "               col('geo.coordinates').getItem(0).alias('Tweet_Location_Lat'),\\\n",
    "               col('geo.coordinates').getItem(1).alias('Tweet_Location_Long'),\\\n",
    "               col('retweeted_status.retweeted').alias('If_Retweeted'),\\\n",
    "               col('retweeted').alias('If_Retweeted_Root'),\n",
    "               col('place.country').alias('Place_Country'),\n",
    "               col('text').alias('Text'),\n",
    "               col('tweet_text').alias('Tweet_Text'),\n",
    "                col('created_at').alias('Tweet_Date')\n",
    "                             \n",
    "             )"
   ]
  },
  {
   "cell_type": "code",
   "execution_count": null,
   "id": "af9a9f01-632c-48d8-a7e4-314ceae3b9e1",
   "metadata": {},
   "outputs": [],
   "source": []
  },
  {
   "cell_type": "code",
   "execution_count": 10,
   "id": "7343974f-a1ee-4a86-a168-b10461486d05",
   "metadata": {},
   "outputs": [
    {
     "name": "stderr",
     "output_type": "stream",
     "text": [
      "                                                                                \r"
     ]
    },
    {
     "data": {
      "text/html": [
       "<table border='1'>\n",
       "<tr><th>Tweet_ID</th><th>RT_Status_RT_Count</th><th>RT_Status_Like_Count</th><th>RT_Status_Reply_Count</th><th>RT_Stats_Quoted_Count</th><th>RT_Status_Original_User_ID</th><th>RT_Status_Original_User_Screen_Name</th><th>RT_Status_Original_User_Location</th><th>RT_Status_Original_User_Description</th><th>RT_Status_Original_User_Verified</th><th>RT_Status_Original_User_followers_count</th><th>RT_Status_Original_User_statuses_count</th><th>RT_Status_Original_User_listed_count</th><th>RT_Status_Original_Tweet_Id</th><th>RT_Status_Original_Tweet_Text</th><th>RT_Status_Original_Tweet_Created_at</th><th>Parsed_Hashtags</th><th>User_ID</th><th>User_Name</th><th>User_Defined_Location</th><th>User_Description</th><th>User_Verified</th><th>User_Profile_Followers_Count</th><th>User_Tweets-Retweet_Count</th><th>User_List_Count</th><th>User_ID_Creation_Date</th><th>RT_Mentioned_User_ID</th><th>Tweet_Location_Lat</th><th>Tweet_Location_Long</th><th>If_Retweeted</th><th>If_Retweeted_Root</th><th>Place_Country</th><th>Text</th><th>Tweet_Text</th><th>Tweet_Date</th></tr>\n",
       "<tr><td>1622528582131007489</td><td>17</td><td>5</td><td>0</td><td>0</td><td>1552709956679475205</td><td>Brhanmebrhatu21</td><td>null</td><td>#StopBombingTigra...</td><td>false</td><td>567</td><td>25349</td><td>2</td><td>1622472844729786368</td><td>In Tigray, an est...</td><td>Mon Feb 06 05:50:...</td><td>[]</td><td>1563134925355618305</td><td>yihono1</td><td>null</td><td>ታይ ከባ በለት ታእኖ💔😭</td><td>false</td><td>557</td><td>12245</td><td>0</td><td>Fri Aug 26 12:03:...</td><td>[]</td><td>null</td><td>null</td><td>false</td><td>RT</td><td>null</td><td>RT @Brhanmebrhatu...</td><td>In Tigray, an est...</td><td>Mon Feb 06 09:32:...</td></tr>\n",
       "<tr><td>1622528627827933184</td><td>null</td><td>null</td><td>null</td><td>null</td><td>null</td><td>null</td><td>null</td><td>null</td><td>null</td><td>null</td><td>null</td><td>null</td><td>null</td><td>null</td><td>null</td><td>[AustraliaEducati...</td><td>1592353020297330688</td><td>h__appiness__</td><td>Lagos</td><td>null</td><td>false</td><td>354</td><td>7075</td><td>0</td><td>Tue Nov 15 03:05:...</td><td>null</td><td>null</td><td>null</td><td>null</td><td></td><td>null</td><td>If you want to st...</td><td>If you want to st...</td><td>Mon Feb 06 09:32:...</td></tr>\n",
       "<tr><td>1622528698334294016</td><td>null</td><td>null</td><td>null</td><td>null</td><td>null</td><td>null</td><td>null</td><td>null</td><td>null</td><td>null</td><td>null</td><td>null</td><td>null</td><td>null</td><td>null</td><td>[]</td><td>2279668814</td><td>dewisetyorini82</td><td>bojonegoro</td><td>null</td><td>false</td><td>12</td><td>20737</td><td>0</td><td>Mon Jan 06 22:28:...</td><td>null</td><td>null</td><td>null</td><td>null</td><td></td><td>null</td><td>Us. Life competit...</td><td>Us. Life competit...</td><td>Mon Feb 06 09:32:...</td></tr>\n",
       "<tr><td>1622528706697650176</td><td>28</td><td>4</td><td>0</td><td>0</td><td>1600183820057288708</td><td>TakeleFite</td><td>ትግራይ</td><td>ምስ ለባም ህዝበይ እየ🔑</td><td>false</td><td>422</td><td>2317</td><td>0</td><td>1622512166984208387</td><td>Children deserve ...</td><td>Mon Feb 06 08:27:...</td><td>[TigrayGenocide]</td><td>1563134925355618305</td><td>yihono1</td><td>null</td><td>ታይ ከባ በለት ታእኖ💔😭</td><td>false</td><td>557</td><td>12253</td><td>0</td><td>Fri Aug 26 12:03:...</td><td>[]</td><td>null</td><td>null</td><td>false</td><td>RT</td><td>null</td><td>RT @TakeleFite: C...</td><td>Children deserve ...</td><td>Mon Feb 06 09:32:...</td></tr>\n",
       "<tr><td>1622528714536878081</td><td>27</td><td>152</td><td>5</td><td>5</td><td>1412474438117900294</td><td>coachrobwood</td><td>null</td><td>On a Mission to I...</td><td>false</td><td>9932</td><td>5401</td><td>55</td><td>1622245648107028482</td><td>The current homes...</td><td>Sun Feb 05 14:47:...</td><td>[]</td><td>1441037541306736640</td><td>ThomasS03901268</td><td>null</td><td>Constitutional Li...</td><td>false</td><td>3170</td><td>32247</td><td>1</td><td>Thu Sep 23 13:52:...</td><td>[]</td><td>null</td><td>null</td><td>false</td><td>RT</td><td>null</td><td>RT @coachrobwood:...</td><td>The current homes...</td><td>Mon Feb 06 09:32:...</td></tr>\n",
       "<tr><td>1622528748376535042</td><td>4</td><td>3</td><td>0</td><td>0</td><td>1498166646330245123</td><td>HagosSuzan</td><td>null</td><td>peace🙏🙏🤲🌏💊</td><td>false</td><td>1283</td><td>313596</td><td>0</td><td>1622525572701388801</td><td>Education is the ...</td><td>Mon Feb 06 09:20:...</td><td>[Tigray]</td><td>1492956827587428354</td><td>anter_gol</td><td>Sigtuna, Sverige</td><td>i am here to for ...</td><td>false</td><td>6224</td><td>288405</td><td>0</td><td>Sun Feb 13 20:20:...</td><td>[]</td><td>null</td><td>null</td><td>false</td><td>RT</td><td>null</td><td>RT @HagosSuzan: E...</td><td>Education is the ...</td><td>Mon Feb 06 09:32:...</td></tr>\n",
       "<tr><td>1622528757197156355</td><td>5</td><td>2</td><td>0</td><td>0</td><td>1498166646330245123</td><td>HagosSuzan</td><td>null</td><td>peace🙏🙏🤲🌏💊</td><td>false</td><td>1283</td><td>313596</td><td>0</td><td>1622525408154619904</td><td>In Tigray,an esti...</td><td>Mon Feb 06 09:19:...</td><td>[]</td><td>1492956827587428354</td><td>anter_gol</td><td>Sigtuna, Sverige</td><td>i am here to for ...</td><td>false</td><td>6224</td><td>288406</td><td>0</td><td>Sun Feb 13 20:20:...</td><td>[]</td><td>null</td><td>null</td><td>false</td><td>RT</td><td>null</td><td>RT @HagosSuzan: I...</td><td>In Tigray,an esti...</td><td>Mon Feb 06 09:32:...</td></tr>\n",
       "<tr><td>1622528990027165698</td><td>4</td><td>49</td><td>2</td><td>2</td><td>802474615050215424</td><td>Kerry_edu</td><td>Cambridge, MA</td><td>Senior fellow @fe...</td><td>false</td><td>8465</td><td>4853</td><td>132</td><td>1622023375341371392</td><td>It&#x27;s messages I g...</td><td>Sun Feb 05 00:04:...</td><td>[]</td><td>20101204</td><td>MrsSDalton75</td><td>the boro</td><td>Believer in freed...</td><td>false</td><td>527</td><td>8834</td><td>1</td><td>Wed Feb 04 22:20:...</td><td>[]</td><td>null</td><td>null</td><td>false</td><td>RT</td><td>null</td><td>RT @Kerry_edu: It...</td><td>It&#x27;s messages I g...</td><td>Mon Feb 06 09:33:...</td></tr>\n",
       "<tr><td>1622528999606853634</td><td>29</td><td>8</td><td>0</td><td>0</td><td>1540401390127927296</td><td>ZN9bBU3mqNK6l0k</td><td>null</td><td>Tigray</td><td>false</td><td>943</td><td>197337</td><td>0</td><td>1622456648659832832</td><td>In Tigray, an est...</td><td>Mon Feb 06 04:46:...</td><td>[]</td><td>1450812611893895169</td><td>Hinefeday1</td><td>null</td><td>null</td><td>false</td><td>1476</td><td>11356</td><td>0</td><td>Wed Oct 20 13:14:...</td><td>[]</td><td>null</td><td>null</td><td>false</td><td>RT</td><td>null</td><td>RT @ZN9bBU3mqNK6l...</td><td>In Tigray, an est...</td><td>Mon Feb 06 09:33:...</td></tr>\n",
       "<tr><td>1622529013364178944</td><td>13</td><td>2</td><td>0</td><td>0</td><td>1606764420545363968</td><td>SelamSeyom</td><td>null</td><td>#StopWarOnTigray ...</td><td>false</td><td>251</td><td>27730</td><td>0</td><td>1622494835885150209</td><td>Children deserve ...</td><td>Mon Feb 06 07:18:...</td><td>[TigrayGenocide]</td><td>1450812611893895169</td><td>Hinefeday1</td><td>null</td><td>null</td><td>false</td><td>1476</td><td>11360</td><td>0</td><td>Wed Oct 20 13:14:...</td><td>[]</td><td>null</td><td>null</td><td>false</td><td>RT</td><td>null</td><td>RT @SelamSeyom: C...</td><td>Children deserve ...</td><td>Mon Feb 06 09:33:...</td></tr>\n",
       "</table>\n"
      ],
      "text/plain": [
       "+-------------------+------------------+--------------------+---------------------+---------------------+--------------------------+-----------------------------------+--------------------------------+-----------------------------------+--------------------------------+---------------------------------------+--------------------------------------+------------------------------------+---------------------------+-----------------------------+-----------------------------------+--------------------+-------------------+---------------+---------------------+--------------------+-------------+----------------------------+-------------------------+---------------+---------------------+--------------------+------------------+-------------------+------------+-----------------+-------------+--------------------+--------------------+--------------------+\n",
       "|           Tweet_ID|RT_Status_RT_Count|RT_Status_Like_Count|RT_Status_Reply_Count|RT_Stats_Quoted_Count|RT_Status_Original_User_ID|RT_Status_Original_User_Screen_Name|RT_Status_Original_User_Location|RT_Status_Original_User_Description|RT_Status_Original_User_Verified|RT_Status_Original_User_followers_count|RT_Status_Original_User_statuses_count|RT_Status_Original_User_listed_count|RT_Status_Original_Tweet_Id|RT_Status_Original_Tweet_Text|RT_Status_Original_Tweet_Created_at|     Parsed_Hashtags|            User_ID|      User_Name|User_Defined_Location|    User_Description|User_Verified|User_Profile_Followers_Count|User_Tweets-Retweet_Count|User_List_Count|User_ID_Creation_Date|RT_Mentioned_User_ID|Tweet_Location_Lat|Tweet_Location_Long|If_Retweeted|If_Retweeted_Root|Place_Country|                Text|          Tweet_Text|          Tweet_Date|\n",
       "+-------------------+------------------+--------------------+---------------------+---------------------+--------------------------+-----------------------------------+--------------------------------+-----------------------------------+--------------------------------+---------------------------------------+--------------------------------------+------------------------------------+---------------------------+-----------------------------+-----------------------------------+--------------------+-------------------+---------------+---------------------+--------------------+-------------+----------------------------+-------------------------+---------------+---------------------+--------------------+------------------+-------------------+------------+-----------------+-------------+--------------------+--------------------+--------------------+\n",
       "|1518676795758977032|                 1|                   8|                    0|                    0|       1328779297721638919|                        SlimHeroics|                   285 Westbound|               🏚 You aren't gon...|                           false|                                   8522|                                 96564|                                  13|        1518676310809321473|         I tell people I'm...|               Mon Apr 25 19:40:...|                  []|1190007096122781696|      SamPogono|                  ETX|     Purpose driven.|        false|                        6745|                    90485|             48| Thu Oct 31 20:46:...|                  []|              null|               null|       false|               RT|         null|RT @SlimHeroics: ...|I tell people I'm...|Mon Apr 25 19:42:...|\n",
       "|1518677004295585792|                 1|                   0|                    1|                    0|       1254439619728494592|                       Becky_Nalepo|                    Home is best|               EduPsyc/EQ: Behav...|                           false|                                   3746|                                 52809|                                   8|        1518676659565744129|         Trauma informed e...|               Mon Apr 25 19:41:...|                  []|1020400320583749632|      nicsaburi| Cumbernauld Villa...|“As Above, So Bel...|        false|                        4024|                    20861|              1| Fri Jul 20 20:09:...|                  []|              null|               null|       false|               RT|         null|RT @Becky_Nalepo:...|Trauma informed e...|Mon Apr 25 19:43:...|\n",
       "|1518677064223805442|               275|                 720|                   11|                   12|        801111943775973376|                        MarvinDunn4|                       Miami, FL|               Former naval offi...|                           false|                                   5722|                                  1828|                                  11|        1518252880251269125|         #GovDeSantis #Bla...|               Sun Apr 24 15:37:...|[GovDeSantis, Bla...|1349890404250894336|JeannettedeBon2|          Buffalo, WY|Proud mom and gra...|        false|                         555|                    27198|              0| Fri Jan 15 01:25:...|                  []|              null|               null|       false|               RT|         null|RT @MarvinDunn4: ...|#GovDeSantis #Bla...|Mon Apr 25 19:43:...|\n",
       "|1518677181655789571|               170|                 826|                   41|                    7|                  30417501|                           msisodia|                           Delhi|               Not sure if I'm a...|                            true|                                3172075|                                 21681|                                1272|        1518637603804880897|         After day long vi...|               Mon Apr 25 17:06:...|                  []|          356349551|   jaspreet0280|               punjab|EX National Gener...|        false|                        6166|                     8193|              6| Tue Aug 16 18:30:...|                  []|              null|               null|       false|               RT|         null|RT @msisodia: Aft...|After day long vi...|Mon Apr 25 19:43:...|\n",
       "|1518677230104154112|                 7|                   9|                    4|                    2|       1509753697235992576|                    genderidentityk|                            null|               Our substack re: ...|                           false|                                     79|                                   144|                                   1|        1518470160482324480|         In Nov 2021, the ...|               Mon Apr 25 06:01:...|                  []|1357049831852675073|   JulieXBlack1| GenderWooWoo Cali...|#LGBDropTheTQ! De...|        false|                        1176|                     9439|              3| Wed Feb 03 19:34:...|                  []|              null|               null|       false|               RT|         null|RT @genderidentit...|In Nov 2021, the ...|Mon Apr 25 19:44:...|\n",
       "|1518677233682034688|                16|                  67|                    3|                    3|                 481506036|                       Reporterlyaf|                     Afghanistan|               Reporterly is Afg...|                           false|                                  14874|                                 27927|                                 208|        1518466795216293888|         In reaction to th...|               Mon Apr 25 05:47:...|[Taliban, Afghani...|1095139867879723008|        Punk319|                 null|                null|        false|                         520|                    19209|              0| Tue Feb 12 01:57:...|                  []|              null|               null|       false|               RT|         null|RT @Reporterlyaf:...|In reaction to th...|Mon Apr 25 19:44:...|\n",
       "|1518677251184861185|                19|                  20|                    0|                    0|        897524593044443137|                           MDNnewss|                            null|               INTENTIONAL TELEV...|                           false|                                  21672|                                 38104|                                   1|        1518547972325355523|         Just in : More le...|               Mon Apr 25 11:10:...|                  []| 897524593044443137|       MDNnewss|                 null|INTENTIONAL TELEV...|        false|                       21672|                    38105|              1| Tue Aug 15 18:25:...|                  []|              null|               null|       false|               RT|         null|RT @MDNnewss: Jus...|Just in : More le...|Mon Apr 25 19:44:...|\n",
       "|1518677420114468866|                10|                  78|                    1|                   11|        906219834081509377|                        Spencer_Fdn|                     Chicago, IL|               Investing in educ...|                           false|                                   7773|                                  2148|                                  59|        1517983014269063168|         Dr. Daniel Solórz...|               Sat Apr 23 21:45:...|                  []|          212274776|         rmj115|                 null|mexicana-chicana....|        false|                         149|                      243|              1| Fri Nov 05 16:37:...|                  []|              null|               null|       false|               RT|         null|RT @Spencer_Fdn: ...|Dr. Daniel Solórz...|Mon Apr 25 19:44:...|\n",
       "|1518677487425056768|               187|                  89|                    4|                    0|       1517893387420319746|                      Yukta22136401|                            null|                               null|                           false|                                      5|                                    40|                                   0|        1518159828858052608|         Why is the minist...|               Sun Apr 24 09:28:...|                  []| 947845625436979200|YasirAn17525452|                 null|                null|        false|                          10|                      683|              0| Mon Jan 01 15:03:...|                  []|              null|               null|       false|               RT|         null|RT @Yukta22136401...|Why is the minist...|Mon Apr 25 19:45:...|\n",
       "|1518677561445916673|                 2|                   1|                    0|                    0|       1292439472051822592|                    StirlingSchools|                    Erbil, Iraq.|               Stirling Schools ...|                           false|                                    117|                                   442|                                   0|        1518147273896697856|         JOIN US FOR\n",
       "Inter...|               Sun Apr 24 08:38:...|                  []|1118132955807875079|    StirlingEdu|    London/Luxembourg|Stirling Educatio...|        false|                         134|                      274|              0| Tue Apr 16 12:44:...|                  []|              null|               null|       false|               RT|         null|RT @StirlingSchoo...|JOIN US FOR\n",
       "Inter...|Mon Apr 25 19:45:...|\n",
       "+-------------------+------------------+--------------------+---------------------+---------------------+--------------------------+-----------------------------------+--------------------------------+-----------------------------------+--------------------------------+---------------------------------------+--------------------------------------+------------------------------------+---------------------------+-----------------------------+-----------------------------------+--------------------+-------------------+---------------+---------------------+--------------------+-------------+----------------------------+-------------------------+---------------+---------------------+--------------------+------------------+-------------------+------------+-----------------+-------------+--------------------+--------------------+--------------------+"
      ]
     },
     "execution_count": 10,
     "metadata": {},
     "output_type": "execute_result"
    }
   ],
   "source": [
    "filtered_df.limit(10)"
   ]
  },
  {
   "cell_type": "markdown",
   "id": "629e4c39-f015-4c39-ae18-a6de48c69393",
   "metadata": {},
   "source": [
    "###### We have selected all required columns"
   ]
  },
  {
   "cell_type": "markdown",
   "id": "64c75d92-2498-4eec-a8d2-daac729a84a1",
   "metadata": {},
   "source": [
    "##### Checking for data missingness in these columns to further fine tune  API Selection"
   ]
  },
  {
   "cell_type": "code",
   "execution_count": 11,
   "id": "898db3ee-9705-4cbc-a3db-66c4dc025a57",
   "metadata": {},
   "outputs": [
    {
     "name": "stderr",
     "output_type": "stream",
     "text": [
      "                                                                                \r"
     ]
    }
   ],
   "source": [
    "size_of_filtered_df = filtered_df.count()\n"
   ]
  },
  {
   "cell_type": "code",
   "execution_count": 12,
   "id": "a24ab948-156c-4759-ae50-aa47ceeea086",
   "metadata": {},
   "outputs": [
    {
     "data": {
      "text/plain": [
       "1731801"
      ]
     },
     "execution_count": 12,
     "metadata": {},
     "output_type": "execute_result"
    }
   ],
   "source": [
    "size_of_filtered_df"
   ]
  },
  {
   "cell_type": "code",
   "execution_count": 13,
   "id": "bbf1c413-7c51-4057-b18c-b0b587609c31",
   "metadata": {},
   "outputs": [],
   "source": [
    "null_counts = filtered_df.select([count(when(col(c).isNull() | (col(c).cast(\"string\") == \"\"), c)).alias(c) if c != \"Parsed_Hashtags\" \n",
    "                         else count(when(array_contains(c, \"\") | col(c).isNull(), c)).alias(c) for c in filtered_df.columns])\n"
   ]
  },
  {
   "cell_type": "code",
   "execution_count": 14,
   "id": "3923ec2f-759c-4f75-8ee5-36cafa14349e",
   "metadata": {},
   "outputs": [],
   "source": [
    "%matplotlib inline"
   ]
  },
  {
   "cell_type": "code",
   "execution_count": 15,
   "id": "c6dab3ba-bb2c-4b17-a0a1-472dc387c25d",
   "metadata": {},
   "outputs": [
    {
     "name": "stderr",
     "output_type": "stream",
     "text": [
      "                                                                                \r"
     ]
    }
   ],
   "source": [
    "pd_null_counts = null_counts.toPandas()"
   ]
  },
  {
   "cell_type": "code",
   "execution_count": 16,
   "id": "60dec8a9-5b6a-4b33-ad3c-dc6e51a4d084",
   "metadata": {},
   "outputs": [],
   "source": [
    "pd_null_counts = pd_null_counts.transpose()"
   ]
  },
  {
   "cell_type": "code",
   "execution_count": 17,
   "id": "a012124d-9b92-4166-b310-d2d6b116f3ea",
   "metadata": {},
   "outputs": [],
   "source": [
    "pd_null_counts.set_axis(['Nulls_Count'], axis = 1, inplace = True)\n",
    "pd_null_counts.Nulls_Count = (pd_null_counts.Nulls_Count / size_of_filtered_df) * 100"
   ]
  },
  {
   "cell_type": "code",
   "execution_count": 18,
   "id": "aba5b527-28e7-402f-8429-5a5f109a2971",
   "metadata": {},
   "outputs": [
    {
     "data": {
      "text/html": [
       "<div>\n",
       "<style scoped>\n",
       "    .dataframe tbody tr th:only-of-type {\n",
       "        vertical-align: middle;\n",
       "    }\n",
       "\n",
       "    .dataframe tbody tr th {\n",
       "        vertical-align: top;\n",
       "    }\n",
       "\n",
       "    .dataframe thead th {\n",
       "        text-align: right;\n",
       "    }\n",
       "</style>\n",
       "<table border=\"1\" class=\"dataframe\">\n",
       "  <thead>\n",
       "    <tr style=\"text-align: right;\">\n",
       "      <th></th>\n",
       "      <th>Nulls_Count</th>\n",
       "    </tr>\n",
       "  </thead>\n",
       "  <tbody>\n",
       "    <tr>\n",
       "      <th>Tweet_ID</th>\n",
       "      <td>0.000000</td>\n",
       "    </tr>\n",
       "    <tr>\n",
       "      <th>RT_Status_RT_Count</th>\n",
       "      <td>9.873536</td>\n",
       "    </tr>\n",
       "    <tr>\n",
       "      <th>RT_Status_Like_Count</th>\n",
       "      <td>9.873536</td>\n",
       "    </tr>\n",
       "    <tr>\n",
       "      <th>RT_Status_Reply_Count</th>\n",
       "      <td>9.873536</td>\n",
       "    </tr>\n",
       "    <tr>\n",
       "      <th>RT_Stats_Quoted_Count</th>\n",
       "      <td>9.873536</td>\n",
       "    </tr>\n",
       "    <tr>\n",
       "      <th>RT_Status_Original_User_ID</th>\n",
       "      <td>9.873536</td>\n",
       "    </tr>\n",
       "    <tr>\n",
       "      <th>RT_Status_Original_User_Screen_Name</th>\n",
       "      <td>9.873536</td>\n",
       "    </tr>\n",
       "    <tr>\n",
       "      <th>RT_Status_Original_User_Location</th>\n",
       "      <td>31.626902</td>\n",
       "    </tr>\n",
       "    <tr>\n",
       "      <th>RT_Status_Original_User_Description</th>\n",
       "      <td>14.226057</td>\n",
       "    </tr>\n",
       "    <tr>\n",
       "      <th>RT_Status_Original_User_Verified</th>\n",
       "      <td>9.873536</td>\n",
       "    </tr>\n",
       "    <tr>\n",
       "      <th>RT_Status_Original_User_followers_count</th>\n",
       "      <td>9.873536</td>\n",
       "    </tr>\n",
       "    <tr>\n",
       "      <th>RT_Status_Original_User_statuses_count</th>\n",
       "      <td>9.873536</td>\n",
       "    </tr>\n",
       "    <tr>\n",
       "      <th>RT_Status_Original_User_listed_count</th>\n",
       "      <td>9.873536</td>\n",
       "    </tr>\n",
       "    <tr>\n",
       "      <th>RT_Status_Original_Tweet_Id</th>\n",
       "      <td>9.873536</td>\n",
       "    </tr>\n",
       "    <tr>\n",
       "      <th>RT_Status_Original_Tweet_Text</th>\n",
       "      <td>9.873536</td>\n",
       "    </tr>\n",
       "    <tr>\n",
       "      <th>RT_Status_Original_Tweet_Created_at</th>\n",
       "      <td>9.873536</td>\n",
       "    </tr>\n",
       "    <tr>\n",
       "      <th>Parsed_Hashtags</th>\n",
       "      <td>0.000000</td>\n",
       "    </tr>\n",
       "    <tr>\n",
       "      <th>User_ID</th>\n",
       "      <td>0.000000</td>\n",
       "    </tr>\n",
       "    <tr>\n",
       "      <th>User_Name</th>\n",
       "      <td>0.000000</td>\n",
       "    </tr>\n",
       "    <tr>\n",
       "      <th>User_Defined_Location</th>\n",
       "      <td>42.103452</td>\n",
       "    </tr>\n",
       "    <tr>\n",
       "      <th>User_Description</th>\n",
       "      <td>20.480991</td>\n",
       "    </tr>\n",
       "    <tr>\n",
       "      <th>User_Verified</th>\n",
       "      <td>0.000000</td>\n",
       "    </tr>\n",
       "    <tr>\n",
       "      <th>User_Profile_Followers_Count</th>\n",
       "      <td>0.000000</td>\n",
       "    </tr>\n",
       "    <tr>\n",
       "      <th>User_Tweets-Retweet_Count</th>\n",
       "      <td>0.000000</td>\n",
       "    </tr>\n",
       "    <tr>\n",
       "      <th>User_List_Count</th>\n",
       "      <td>0.000000</td>\n",
       "    </tr>\n",
       "    <tr>\n",
       "      <th>User_ID_Creation_Date</th>\n",
       "      <td>0.000000</td>\n",
       "    </tr>\n",
       "    <tr>\n",
       "      <th>RT_Mentioned_User_ID</th>\n",
       "      <td>9.873536</td>\n",
       "    </tr>\n",
       "    <tr>\n",
       "      <th>Tweet_Location_Lat</th>\n",
       "      <td>99.909054</td>\n",
       "    </tr>\n",
       "    <tr>\n",
       "      <th>Tweet_Location_Long</th>\n",
       "      <td>99.909054</td>\n",
       "    </tr>\n",
       "    <tr>\n",
       "      <th>If_Retweeted</th>\n",
       "      <td>9.873536</td>\n",
       "    </tr>\n",
       "    <tr>\n",
       "      <th>If_Retweeted_Root</th>\n",
       "      <td>9.865394</td>\n",
       "    </tr>\n",
       "    <tr>\n",
       "      <th>Place_Country</th>\n",
       "      <td>99.681545</td>\n",
       "    </tr>\n",
       "    <tr>\n",
       "      <th>Text</th>\n",
       "      <td>0.000000</td>\n",
       "    </tr>\n",
       "    <tr>\n",
       "      <th>Tweet_Text</th>\n",
       "      <td>0.000000</td>\n",
       "    </tr>\n",
       "    <tr>\n",
       "      <th>Tweet_Date</th>\n",
       "      <td>0.000000</td>\n",
       "    </tr>\n",
       "  </tbody>\n",
       "</table>\n",
       "</div>"
      ],
      "text/plain": [
       "                                         Nulls_Count\n",
       "Tweet_ID                                    0.000000\n",
       "RT_Status_RT_Count                          9.873536\n",
       "RT_Status_Like_Count                        9.873536\n",
       "RT_Status_Reply_Count                       9.873536\n",
       "RT_Stats_Quoted_Count                       9.873536\n",
       "RT_Status_Original_User_ID                  9.873536\n",
       "RT_Status_Original_User_Screen_Name         9.873536\n",
       "RT_Status_Original_User_Location           31.626902\n",
       "RT_Status_Original_User_Description        14.226057\n",
       "RT_Status_Original_User_Verified            9.873536\n",
       "RT_Status_Original_User_followers_count     9.873536\n",
       "RT_Status_Original_User_statuses_count      9.873536\n",
       "RT_Status_Original_User_listed_count        9.873536\n",
       "RT_Status_Original_Tweet_Id                 9.873536\n",
       "RT_Status_Original_Tweet_Text               9.873536\n",
       "RT_Status_Original_Tweet_Created_at         9.873536\n",
       "Parsed_Hashtags                             0.000000\n",
       "User_ID                                     0.000000\n",
       "User_Name                                   0.000000\n",
       "User_Defined_Location                      42.103452\n",
       "User_Description                           20.480991\n",
       "User_Verified                               0.000000\n",
       "User_Profile_Followers_Count                0.000000\n",
       "User_Tweets-Retweet_Count                   0.000000\n",
       "User_List_Count                             0.000000\n",
       "User_ID_Creation_Date                       0.000000\n",
       "RT_Mentioned_User_ID                        9.873536\n",
       "Tweet_Location_Lat                         99.909054\n",
       "Tweet_Location_Long                        99.909054\n",
       "If_Retweeted                                9.873536\n",
       "If_Retweeted_Root                           9.865394\n",
       "Place_Country                              99.681545\n",
       "Text                                        0.000000\n",
       "Tweet_Text                                  0.000000\n",
       "Tweet_Date                                  0.000000"
      ]
     },
     "execution_count": 18,
     "metadata": {},
     "output_type": "execute_result"
    }
   ],
   "source": [
    "pd_null_counts"
   ]
  },
  {
   "cell_type": "code",
   "execution_count": 19,
   "id": "b6bc2264-639e-4886-a833-fa605c1de6e6",
   "metadata": {},
   "outputs": [
    {
     "data": {
      "image/png": "[encoded data removed]",
      "text/plain": [
       "<Figure size 300x400 with 1 Axes>"
      ]
     },
     "metadata": {},
     "output_type": "display_data"
    }
   ],
   "source": [
    "# visualizing nulls\n",
    "plt.figure(figsize = (3,4))\n",
    "colors = sns.color_palette('pastel')[0:5]\n",
    "\n",
    "sns.barplot(y = pd_null_counts.index,x= (pd_null_counts.Nulls_Count), palette = colors)\n",
    "plt.yticks(rotation=0, fontsize =6)\n",
    "plt.xticks(rotation=0, fontsize =5)\n",
    "\n",
    "plt.xlim(0,100)\n",
    "plt.xlabel(\"% of Nulls\", fontsize = 10)\n",
    "sns.set(rc={'legend.fontsize': 10})\n",
    "plt.title('Missingness in Selected Columns', fontsize = 10)\n",
    "\n",
    "plt.show()"
   ]
  },
  {
   "cell_type": "code",
   "execution_count": 20,
   "id": "9c603bd4-8a33-4853-a337-c58ccbbdbad9",
   "metadata": {},
   "outputs": [
    {
     "name": "stderr",
     "output_type": "stream",
     "text": [
      "                                                                                \r"
     ]
    },
    {
     "data": {
      "text/html": [
       "<table border='1'>\n",
       "<tr><th>summary</th><th>Tweet_ID</th><th>RT_Status_RT_Count</th><th>RT_Status_Like_Count</th><th>RT_Status_Reply_Count</th><th>RT_Stats_Quoted_Count</th><th>RT_Status_Original_User_ID</th><th>RT_Status_Original_User_Screen_Name</th><th>RT_Status_Original_User_Location</th><th>RT_Status_Original_User_Description</th><th>RT_Status_Original_User_followers_count</th><th>RT_Status_Original_User_statuses_count</th><th>RT_Status_Original_User_listed_count</th><th>RT_Status_Original_Tweet_Id</th><th>RT_Status_Original_Tweet_Text</th><th>RT_Status_Original_Tweet_Created_at</th><th>User_ID</th><th>User_Name</th><th>User_Defined_Location</th><th>User_Description</th><th>User_Profile_Followers_Count</th><th>User_Tweets-Retweet_Count</th><th>User_List_Count</th><th>User_ID_Creation_Date</th><th>Tweet_Location_Lat</th><th>Tweet_Location_Long</th><th>If_Retweeted_Root</th><th>Place_Country</th><th>Text</th><th>Tweet_Text</th><th>Tweet_Date</th></tr>\n",
       "<tr><td>count</td><td>1731801</td><td>1560811</td><td>1560811</td><td>1560811</td><td>1560811</td><td>1560811</td><td>1560811</td><td>1184086</td><td>1485434</td><td>1560811</td><td>1560811</td><td>1560811</td><td>1560811</td><td>1560811</td><td>1560811</td><td>1731801</td><td>1731801</td><td>1002653</td><td>1377111</td><td>1731801</td><td>1731801</td><td>1731801</td><td>1731801</td><td>1575</td><td>1575</td><td>1731801</td><td>5516</td><td>1731801</td><td>1731801</td><td>1731801</td></tr>\n",
       "<tr><td>mean</td><td>1.567303054906151...</td><td>911.7983663621028</td><td>4344.105244645251</td><td>151.10263382305737</td><td>80.0061371940613</td><td>5.668012467940109...</td><td>1.01275217E9</td><td>3.332418800152614...</td><td>7.076548913952506...</td><td>1121417.693060851</td><td>58638.98879877192</td><td>2069.997607013277</td><td>1.565048073730326...</td><td>null</td><td>null</td><td>7.638311527436060...</td><td>Infinity</td><td>Infinity</td><td>5.395304622787577E21</td><td>6569.583240799607</td><td>58883.08058893603</td><td>35.27056053207037</td><td>null</td><td>36.47979968884446</td><td>-88.24452807328889</td><td>null</td><td>null</td><td>null</td><td>null</td><td>null</td></tr>\n",
       "<tr><td>stddev</td><td>3.220630243494162...</td><td>3120.731604895915</td><td>21439.928427487335</td><td>710.9547331232357</td><td>426.91129917126375</td><td>6.486699890495087...</td><td>2.8635829350547223E9</td><td>1.896062478125547...</td><td>2.791427220815744...</td><td>7173767.860189142</td><td>121466.224394559</td><td>11693.94086720153</td><td>4.316248251657192E16</td><td>null</td><td>null</td><td>6.608212899314330...</td><td>NaN</td><td>NaN</td><td>2.334365660356744...</td><td>184699.34465649986</td><td>128615.9207170188</td><td>571.5131131224699</td><td>null</td><td>9.825530861729803</td><td>39.06738653194238</td><td>null</td><td>null</td><td>null</td><td>null</td><td>null</td></tr>\n",
       "<tr><td>min</td><td>1511197341029580801</td><td>1</td><td>0</td><td>0</td><td>0</td><td>1183</td><td>003CarrierFan</td><td>\t♉︎♉︎♐︎ </td><td>! Tweets are my p...</td><td>0</td><td>0</td><td>0</td><td>2074196342</td><td>! @adullamscug we...</td><td>Fri Apr 01 00:17:...</td><td>324</td><td>000000000000hjj</td><td>\t</td><td>!</td><td>0</td><td>1</td><td>0</td><td>Fri Apr 01 00:08:...</td><td>-18.64624514</td><td>-159.619083</td><td></td><td></td><td>! It room with a ...</td><td>! @adullamscug we...</td><td>Fri Apr 08 00:00:...</td></tr>\n",
       "<tr><td>max</td><td>1623308295774605312</td><td>233417</td><td>962357</td><td>56955</td><td>31545</td><td>1622979151455047684</td><td>zzzjeffree</td><td>🫠</td><td>🫶🏿</td><td>132086459</td><td>3669316</td><td>221630</td><td>1623306350594781184</td><td>🫶A Love for Educ...</td><td>Wed Sep 30 16:01:...</td><td>1623300891553198083</td><td>zzzzsoap</td><td>🫶🏾</td><td>󠀠 󠀠 󠀠\n",
       "󠀠 󠀠 󠀠...</td><td>52676537</td><td>4155994</td><td>215322</td><td>Wed Sep 30 23:55:...</td><td>61.6111726</td><td>138.084</td><td>RT</td><td>日本</td><td>🫴 Education expe...</td><td>🫶A Love for Educ...</td><td>Wed Sep 28 23:59:...</td></tr>\n",
       "</table>\n"
      ],
      "text/plain": [
       "+-------+--------------------+------------------+--------------------+---------------------+---------------------+--------------------------+-----------------------------------+--------------------------------+-----------------------------------+---------------------------------------+--------------------------------------+------------------------------------+---------------------------+-----------------------------+-----------------------------------+--------------------+---------------+---------------------+--------------------+----------------------------+-------------------------+-----------------+---------------------+------------------+-------------------+-----------------+-------------+--------------------+--------------------+--------------------+\n",
       "|summary|            Tweet_ID|RT_Status_RT_Count|RT_Status_Like_Count|RT_Status_Reply_Count|RT_Stats_Quoted_Count|RT_Status_Original_User_ID|RT_Status_Original_User_Screen_Name|RT_Status_Original_User_Location|RT_Status_Original_User_Description|RT_Status_Original_User_followers_count|RT_Status_Original_User_statuses_count|RT_Status_Original_User_listed_count|RT_Status_Original_Tweet_Id|RT_Status_Original_Tweet_Text|RT_Status_Original_Tweet_Created_at|             User_ID|      User_Name|User_Defined_Location|    User_Description|User_Profile_Followers_Count|User_Tweets-Retweet_Count|  User_List_Count|User_ID_Creation_Date|Tweet_Location_Lat|Tweet_Location_Long|If_Retweeted_Root|Place_Country|                Text|          Tweet_Text|          Tweet_Date|\n",
       "+-------+--------------------+------------------+--------------------+---------------------+---------------------+--------------------------+-----------------------------------+--------------------------------+-----------------------------------+---------------------------------------+--------------------------------------+------------------------------------+---------------------------+-----------------------------+-----------------------------------+--------------------+---------------+---------------------+--------------------+----------------------------+-------------------------+-----------------+---------------------+------------------+-------------------+-----------------+-------------+--------------------+--------------------+--------------------+\n",
       "|  count|             1731801|           1560811|             1560811|              1560811|              1560811|                   1560811|                            1560811|                         1184086|                            1485434|                                1560811|                               1560811|                             1560811|                    1560811|                      1560811|                            1560811|             1731801|        1731801|              1002653|             1377111|                     1731801|                  1731801|          1731801|              1731801|              1575|               1575|          1731801|         5516|             1731801|             1731801|             1731801|\n",
       "|   mean|1.567303054906151...| 911.7983663621028|   4344.105244645251|   151.10263382305737|     80.0061371940613|      5.668012467940109...|                       1.01275217E9|            3.332418800152614...|               7.076548913952506...|                      1121417.693060851|                     58638.98879877192|                   2069.997607013277|       1.565048073730326...|                         null|                               null|7.638311527436060...|       Infinity|             Infinity|5.395304622787577E21|           6569.583240799607|        58883.08058893603|35.27056053207037|                 null| 36.47979968884446| -88.24452807328889|             null|         null|                null|                null|                null|\n",
       "| stddev|3.220630243494162...| 3120.731604895915|  21439.928427487335|    710.9547331232357|   426.91129917126375|      6.486699890495087...|               2.8635829350547223E9|            1.896062478125547...|               2.791427220815744...|                      7173767.860189142|                      121466.224394559|                   11693.94086720153|       4.316248251657192E16|                         null|                               null|6.608212899314330...|            NaN|                  NaN|2.334365660356744...|          184699.34465649986|        128615.9207170188|571.5131131224699|                 null| 9.825530861729803|  39.06738653194238|             null|         null|                null|                null|                null|\n",
       "|    min| 1511197341029580801|                 1|                   0|                    0|                    0|                      1183|                      003CarrierFan|                        \t♉︎♉︎♐︎ |               ! Tweets are my p...|                                      0|                                     0|                                   0|                 2074196342|         ! @adullamscug we...|               Fri Apr 01 00:17:...|                 324|000000000000hjj|                    \t|                   !|                           0|                        1|                0| Fri Apr 01 00:08:...|      -18.64624514|        -159.619083|                 |             |! It room with a ...|! @adullamscug we...|Fri Apr 08 00:00:...|\n",
       "|    max| 1623308295774605312|            233417|              962357|                56955|                31545|       1622979151455047684|                         zzzjeffree|                              🫠|                               🫶🏿|                              132086459|                               3669316|                              221630|        1623306350594781184|         🫶A Love for Educ...|               Wed Sep 30 16:01:...| 1623300891553198083|       zzzzsoap|                 🫶🏾|󠀠 󠀠 󠀠\n",
       "󠀠 󠀠 󠀠...|                    52676537|                  4155994|           215322| Wed Sep 30 23:55:...|        61.6111726|            138.084|               RT|         日本|🫴 Education expe...|🫶A Love for Educ...|Wed Sep 28 23:59:...|\n",
       "+-------+--------------------+------------------+--------------------+---------------------+---------------------+--------------------------+-----------------------------------+--------------------------------+-----------------------------------+---------------------------------------+--------------------------------------+------------------------------------+---------------------------+-----------------------------+-----------------------------------+--------------------+---------------+---------------------+--------------------+----------------------------+-------------------------+-----------------+---------------------+------------------+-------------------+-----------------+-------------+--------------------+--------------------+--------------------+"
      ]
     },
     "execution_count": 20,
     "metadata": {},
     "output_type": "execute_result"
    }
   ],
   "source": [
    "filtered_df.describe()"
   ]
  },
  {
   "cell_type": "markdown",
   "id": "1aa39a2d-efca-4b23-92f6-0d831f4e6ef3",
   "metadata": {},
   "source": [
    "### Saving the dataframe"
   ]
  },
  {
   "cell_type": "code",
   "execution_count": null,
   "id": "c4221010-023e-47c7-8bc1-4975fc260e13",
   "metadata": {},
   "outputs": [],
   "source": [
    "%%time\n",
    "filtered_df.write.mode('overwrite').parquet(\"gs://msca-bdp-students-bucket/shared_data/safzal1/finalprojectdata_AfterStep2\")"
   ]
  }
 ],
 "metadata": {
  "kernelspec": {
   "display_name": "Python 3 (ipykernel)",
   "language": "python",
   "name": "python3"
  },
  "language_info": {
   "codemirror_mode": {
    "name": "ipython",
    "version": 3
   },
   "file_extension": ".py",
   "mimetype": "text/x-python",
   "name": "python",
   "nbconvert_exporter": "python",
   "pygments_lexer": "ipython3",
   "version": "3.9.12"
  }
 },
 "nbformat": 4,
 "nbformat_minor": 5
}
